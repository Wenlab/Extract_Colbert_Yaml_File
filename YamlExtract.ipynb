{
 "cells": [
  {
   "cell_type": "code",
   "execution_count": 3,
   "metadata": {},
   "outputs": [
    {
     "name": "stdout",
     "output_type": "stream",
     "text": [
      "file 20200613_1100_w1.mat Begin to Extract\n",
      "real frames: 35423\n",
      "End- begin Total frames: 35423\n",
      "real frames: 35423\n",
      "Total Real frames: 35422\n",
      " Sat Jun 13 11:00:39 2020\n",
      "Delete Last Frame...\n",
      "Load data time cost: 23.133976459503174 s\n",
      "并行处理数据 time cost: 32.138304710388184 s\n",
      "开始合并数据\n",
      "合并数据 time cost: 0.01598644256591797 s\n",
      "file20200613_1100_w1.mat cost 55.40973687171936 s:file 20200613_1144_w2.mat Begin to Extract\n",
      "real frames: 32765\n",
      "End- begin Total frames: 32770\n",
      "real frames: 32765\n",
      "Total Real frames: 32764\n",
      " Sat Jun 13 11:44:09 2020\n",
      "Delete Last Frame...\n",
      "Load data time cost: 21.343971490859985 s\n",
      "并行处理数据 time cost: 26.63072943687439 s\n",
      "开始合并数据\n",
      "合并数据 time cost: 0.015000104904174805 s\n",
      "file20200613_1144_w2.mat cost 48.09450674057007 s:file 20200613_1611_w3.mat Begin to Extract\n"
     ]
    },
    {
     "ename": "IndexError",
     "evalue": "list index out of range",
     "output_type": "error",
     "traceback": [
      "\u001b[1;31m---------------------------------------------------------------------------\u001b[0m",
      "\u001b[1;31mIndexError\u001b[0m                                Traceback (most recent call last)",
      "\u001b[1;32mC:\\Users\\ADMINI~1\\AppData\\Local\\Temp/ipykernel_22644/1586724250.py\u001b[0m in \u001b[0;36m<module>\u001b[1;34m\u001b[0m\n\u001b[0;32m     16\u001b[0m \u001b[0mSaveFolder\u001b[0m \u001b[1;33m=\u001b[0m \u001b[0mos\u001b[0m\u001b[1;33m.\u001b[0m\u001b[0mpath\u001b[0m\u001b[1;33m.\u001b[0m\u001b[0mjoin\u001b[0m\u001b[1;33m(\u001b[0m\u001b[0mdata_folder\u001b[0m\u001b[1;33m,\u001b[0m\u001b[1;34m'ExtractData'\u001b[0m\u001b[1;33m)\u001b[0m\u001b[1;33m\u001b[0m\u001b[1;33m\u001b[0m\u001b[0m\n\u001b[0;32m     17\u001b[0m \u001b[1;33m\u001b[0m\u001b[0m\n\u001b[1;32m---> 18\u001b[1;33m YamlExportMatAll(data_folder,SaveFolder=SaveFolder,\n\u001b[0m\u001b[0;32m     19\u001b[0m                  \u001b[0mCenterline\u001b[0m\u001b[1;33m=\u001b[0m\u001b[1;32mTrue\u001b[0m\u001b[1;33m,\u001b[0m\u001b[1;33m\u001b[0m\u001b[1;33m\u001b[0m\u001b[0m\n\u001b[0;32m     20\u001b[0m                  \u001b[0mcurvedatafiltered\u001b[0m\u001b[1;33m=\u001b[0m\u001b[1;32mTrue\u001b[0m\u001b[1;33m,\u001b[0m\u001b[1;33m\u001b[0m\u001b[1;33m\u001b[0m\u001b[0m\n",
      "\u001b[1;32mg:\\Data\\MyCode\\Extract_Colbert_Yaml_File\\YamlLib\\YamlFrames.py\u001b[0m in \u001b[0;36mYamlExportMatAll\u001b[1;34m(YamlDataFolder, SaveFolder, BoundaryA, BoundaryB, Centerline, DLPisOn, DefaultGridSizeForNonProtocolIllum, ExperimentTime, FirstLaser, FloodLightIsOn, FrameNumber, Head, IllumFlipLR, IllumInvert, IllumRectOrigin, IllumRectRadius, ProtocolIsOn, ProtocolStep, SecondLaser, StageFeedbackTarget, StagePosition, StageVelocity, Tail, TimeElapsed, angle_data, curve_data, curvedatafiltered, mean_worm_length, name, worm_length, savevideo, VideoPath, ExtractFrameNumbers)\u001b[0m\n\u001b[0;32m    678\u001b[0m             \u001b[0mFrameNumbers\u001b[0m \u001b[1;33m=\u001b[0m \u001b[1;32mNone\u001b[0m\u001b[1;33m\u001b[0m\u001b[1;33m\u001b[0m\u001b[0m\n\u001b[0;32m    679\u001b[0m \u001b[1;33m\u001b[0m\u001b[0m\n\u001b[1;32m--> 680\u001b[1;33m         YamlExportMatOne(yamlfilepath, SaveFolder, wormname + '.mat',\n\u001b[0m\u001b[0;32m    681\u001b[0m                          \u001b[0mBoundaryA\u001b[0m\u001b[1;33m=\u001b[0m\u001b[0mBoundaryA\u001b[0m\u001b[1;33m,\u001b[0m\u001b[1;33m\u001b[0m\u001b[1;33m\u001b[0m\u001b[0m\n\u001b[0;32m    682\u001b[0m                          \u001b[0mBoundaryB\u001b[0m\u001b[1;33m=\u001b[0m\u001b[0mBoundaryB\u001b[0m\u001b[1;33m,\u001b[0m\u001b[1;33m\u001b[0m\u001b[1;33m\u001b[0m\u001b[0m\n",
      "\u001b[1;32mg:\\Data\\MyCode\\Extract_Colbert_Yaml_File\\YamlLib\\YamlFrames.py\u001b[0m in \u001b[0;36mYamlExportMatOne\u001b[1;34m(YamlPath, SavePath, SaveName, BoundaryA, BoundaryB, Centerline, DLPisOn, DefaultGridSizeForNonProtocolIllum, ExperimentTime, FirstLaser, FloodLightIsOn, FrameNumber, Head, IllumFlipLR, IllumInvert, IllumRectOrigin, IllumRectRadius, ProtocolIsOn, ProtocolStep, SecondLaser, StageFeedbackTarget, StagePosition, StageVelocity, Tail, TimeElapsed, angle_data, curve_data, curvedatafiltered, mean_worm_length, name, worm_length, savevideo, VideoPath, ExtractFrameNumber)\u001b[0m\n\u001b[0;32m    762\u001b[0m     \u001b[0myaml_time_start\u001b[0m \u001b[1;33m=\u001b[0m \u001b[0mtime\u001b[0m\u001b[1;33m.\u001b[0m\u001b[0mtime\u001b[0m\u001b[1;33m(\u001b[0m\u001b[1;33m)\u001b[0m\u001b[1;33m\u001b[0m\u001b[1;33m\u001b[0m\u001b[0m\n\u001b[0;32m    763\u001b[0m \u001b[1;33m\u001b[0m\u001b[0m\n\u001b[1;32m--> 764\u001b[1;33m     \u001b[0mYamlData\u001b[0m \u001b[1;33m=\u001b[0m \u001b[0mExtract_Yaml_Multiprocess_one\u001b[0m\u001b[1;33m(\u001b[0m\u001b[0mYamlPath\u001b[0m\u001b[1;33m)\u001b[0m\u001b[1;33m\u001b[0m\u001b[1;33m\u001b[0m\u001b[0m\n\u001b[0m\u001b[0;32m    765\u001b[0m \u001b[1;33m\u001b[0m\u001b[0m\n\u001b[0;32m    766\u001b[0m     \u001b[0myaml_time_end\u001b[0m \u001b[1;33m=\u001b[0m \u001b[0mtime\u001b[0m\u001b[1;33m.\u001b[0m\u001b[0mtime\u001b[0m\u001b[1;33m(\u001b[0m\u001b[1;33m)\u001b[0m\u001b[1;33m\u001b[0m\u001b[1;33m\u001b[0m\u001b[0m\n",
      "\u001b[1;32mg:\\Data\\MyCode\\Extract_Colbert_Yaml_File\\YamlLib\\YamlFrames.py\u001b[0m in \u001b[0;36mExtract_Yaml_Multiprocess_one\u001b[1;34m(yaml_path)\u001b[0m\n\u001b[0;32m    456\u001b[0m     \u001b[0mtime_start\u001b[0m \u001b[1;33m=\u001b[0m \u001b[0mtime\u001b[0m\u001b[1;33m.\u001b[0m\u001b[0mtime\u001b[0m\u001b[1;33m(\u001b[0m\u001b[1;33m)\u001b[0m\u001b[1;33m\u001b[0m\u001b[1;33m\u001b[0m\u001b[0m\n\u001b[0;32m    457\u001b[0m     \u001b[0mListFile\u001b[0m \u001b[1;33m=\u001b[0m \u001b[0mOpenYaml\u001b[0m\u001b[1;33m(\u001b[0m\u001b[0myaml_path\u001b[0m\u001b[1;33m)\u001b[0m  \u001b[1;31m# 导入数据\u001b[0m\u001b[1;33m\u001b[0m\u001b[1;33m\u001b[0m\u001b[0m\n\u001b[1;32m--> 458\u001b[1;33m     \u001b[0mbegin_num1\u001b[0m \u001b[1;33m=\u001b[0m \u001b[0mGet_First_Frames\u001b[0m\u001b[1;33m(\u001b[0m\u001b[0mListFile\u001b[0m\u001b[1;33m)\u001b[0m\u001b[1;33m\u001b[0m\u001b[1;33m\u001b[0m\u001b[0m\n\u001b[0m\u001b[0;32m    459\u001b[0m     \u001b[0mend_num\u001b[0m \u001b[1;33m=\u001b[0m \u001b[0mGet_End_Frames\u001b[0m\u001b[1;33m(\u001b[0m\u001b[0mListFile\u001b[0m\u001b[1;33m)\u001b[0m\u001b[1;33m\u001b[0m\u001b[1;33m\u001b[0m\u001b[0m\n\u001b[0;32m    460\u001b[0m \u001b[1;33m\u001b[0m\u001b[0m\n",
      "\u001b[1;32mg:\\Data\\MyCode\\Extract_Colbert_Yaml_File\\YamlLib\\YamlFrames.py\u001b[0m in \u001b[0;36mGet_First_Frames\u001b[1;34m(lines)\u001b[0m\n\u001b[0;32m     66\u001b[0m     \u001b[1;31m# 获得第一帧的拍摄的帧数\u001b[0m\u001b[1;33m\u001b[0m\u001b[1;33m\u001b[0m\u001b[0m\n\u001b[0;32m     67\u001b[0m     \u001b[0mlinenumber\u001b[0m \u001b[1;33m=\u001b[0m \u001b[0mGet_Frames_line\u001b[0m\u001b[1;33m(\u001b[0m\u001b[0mlines\u001b[0m\u001b[1;33m)\u001b[0m \u001b[1;33m+\u001b[0m \u001b[1;36m2\u001b[0m\u001b[1;33m\u001b[0m\u001b[1;33m\u001b[0m\u001b[0m\n\u001b[1;32m---> 68\u001b[1;33m     \u001b[0mFramsNumber\u001b[0m \u001b[1;33m=\u001b[0m \u001b[0mlines\u001b[0m\u001b[1;33m[\u001b[0m\u001b[0mlinenumber\u001b[0m\u001b[1;33m]\u001b[0m\u001b[1;33m.\u001b[0m\u001b[0msplit\u001b[0m\u001b[1;33m(\u001b[0m\u001b[1;34m':'\u001b[0m\u001b[1;33m)\u001b[0m\u001b[1;33m[\u001b[0m\u001b[1;33m-\u001b[0m\u001b[1;36m1\u001b[0m\u001b[1;33m]\u001b[0m\u001b[1;33m\u001b[0m\u001b[1;33m\u001b[0m\u001b[0m\n\u001b[0m\u001b[0;32m     69\u001b[0m     \u001b[1;32mreturn\u001b[0m \u001b[1;33m(\u001b[0m\u001b[0mint\u001b[0m\u001b[1;33m(\u001b[0m\u001b[0mFramsNumber\u001b[0m\u001b[1;33m)\u001b[0m\u001b[1;33m)\u001b[0m\u001b[1;33m\u001b[0m\u001b[1;33m\u001b[0m\u001b[0m\n\u001b[0;32m     70\u001b[0m \u001b[1;33m\u001b[0m\u001b[0m\n",
      "\u001b[1;31mIndexError\u001b[0m: list index out of range"
     ]
    }
   ],
   "source": [
    "import cv2\n",
    "import numpy as np\n",
    "\n",
    "\"\"\"\n",
    "视频缩小了一倍进行存储的\n",
    "\"\"\"\n",
    "\n",
    "from YamlLib.YamlFrames import YamlExportMatAll\n",
    "import time,os\n",
    "from YamlLib.YamlFrames import Extract_Yaml_Multiprocess_one,YamlExportMatOne\n",
    "\n",
    "# data_folder = 'H:/SoftWareData/webdav-xiong/Data/labelwormData/WormPoseVideo/N2_Free_Moving'\n",
    "\n",
    "data_folder = \"G:/WenLabData/ExtractWormPoseData/xrk/N2_Free_Moving/YamlFiles\"\n",
    "\n",
    "SaveFolder = os.path.join(data_folder,'ExtractData')\n",
    "\n",
    "YamlExportMatAll(data_folder,SaveFolder=SaveFolder,\n",
    "                 Centerline=True,\n",
    "                 curvedatafiltered=True,\n",
    "                 TimeElapsed=True,\n",
    "                 Head=True,\n",
    "                 mean_worm_length=True,\n",
    "                 name=True,\n",
    "                 worm_length=True,\n",
    "                 savevideo=False,\n",
    "                 )"
   ]
  }
 ],
 "metadata": {
  "kernelspec": {
   "display_name": "WormPose36",
   "language": "python",
   "name": "wormpose36"
  },
  "language_info": {
   "codemirror_mode": {
    "name": "ipython",
    "version": 3
   },
   "file_extension": ".py",
   "mimetype": "text/x-python",
   "name": "python",
   "nbconvert_exporter": "python",
   "pygments_lexer": "ipython3",
   "version": "3.9.7"
  },
  "orig_nbformat": 4
 },
 "nbformat": 4,
 "nbformat_minor": 2
}
