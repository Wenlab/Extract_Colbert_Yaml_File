{
 "cells": [
  {
   "cell_type": "code",
   "execution_count": 2,
   "metadata": {},
   "outputs": [
    {
     "name": "stdout",
     "output_type": "stream",
     "text": [
      "All time cost 0.0009984970092773438"
     ]
    }
   ],
   "source": [
    "import cv2\n",
    "import numpy as np\n",
    "\n",
    "\"\"\"\n",
    "视频缩小了一倍进行存储的\n",
    "\"\"\"\n",
    "\n",
    "from YamlLib.YamlFrames import YamlExportMatAll\n",
    "import time,os\n",
    "from YamlLib.YamlFrames import Extract_Yaml_Multiprocess_one,YamlExportMatOne\n",
    "\n",
    "# data_folder = 'H:/SoftWareData/webdav-xiong/Data/labelwormData/WormPoseVideo/N2_Free_Moving'\n",
    "\n",
    "data_folder = \"G:/WenLabData/ExtractWormPoseData/xrk/N2_Free_Moving/YamlFiles\"\n",
    "\n",
    "SaveFolder = os.path.join(data_folder,'ExtractData')\n",
    "\n",
    "YamlExportMatAll(data_folder,SaveFolder=SaveFolder,\n",
    "                 Centerline=True,\n",
    "                 curvedatafiltered=True,\n",
    "                 TimeElapsed=True,\n",
    "                 Head=True,\n",
    "                 mean_worm_length=True,\n",
    "                 name=True,\n",
    "                 worm_length=True,\n",
    "                 savevideo=False,\n",
    "                 )"
   ]
  },
  {
   "cell_type": "code",
   "execution_count": null,
   "metadata": {},
   "outputs": [],
   "source": []
  }
 ],
 "metadata": {
  "kernelspec": {
   "display_name": "WormPose36",
   "language": "python",
   "name": "wormpose36"
  },
  "language_info": {
   "codemirror_mode": {
    "name": "ipython",
    "version": 3
   },
   "file_extension": ".py",
   "mimetype": "text/x-python",
   "name": "python",
   "nbconvert_exporter": "python",
   "pygments_lexer": "ipython3",
   "version": "3.9.7"
  },
  "orig_nbformat": 4
 },
 "nbformat": 4,
 "nbformat_minor": 2
}
