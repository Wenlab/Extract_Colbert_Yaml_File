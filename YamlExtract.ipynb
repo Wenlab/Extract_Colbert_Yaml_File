{
 "cells": [
  {
   "cell_type": "code",
   "execution_count": null,
   "metadata": {},
   "outputs": [],
   "source": [
    "import cv2\n",
    "import numpy as np\n",
    "\n",
    "\"\"\"\n",
    "视频缩小了一倍进行存储的\n",
    "\"\"\"\n",
    "\n",
    "from YamlLib.YamlFrames import YamlExportMatAll\n",
    "import time,os\n",
    "from YamlLib.YamlFrames import Extract_Yaml_Multiprocess_one,YamlExportMatOne\n",
    "\n",
    "# data_folder = 'H:/SoftWareData/webdav-xiong/Data/labelwormData/WormPoseVideo/N2_Free_Moving'\n",
    "data_folder = 'G:\\WenLabData\\ExtractWormPoseData\\xrk\\N2_Crawl_202105\\YamlFiles'\n",
    "\n",
    "SaveFolder = os.path.join(data_folder,'ExtractData')\n",
    "\n",
    "YamlExportMatAll(data_folder,SaveFolder=SaveFolder,\n",
    "                 Centerline=True,\n",
    "                 curvedatafiltered=True,\n",
    "                 TimeElapsed=True,\n",
    "                 Head=True,\n",
    "                 mean_worm_length=True,\n",
    "                 name=True,\n",
    "                 worm_length=True,\n",
    "                 savevideo=False,\n",
    "                 )"
   ]
  }
 ],
 "metadata": {
  "language_info": {
   "name": "python"
  },
  "orig_nbformat": 4
 },
 "nbformat": 4,
 "nbformat_minor": 2
}
