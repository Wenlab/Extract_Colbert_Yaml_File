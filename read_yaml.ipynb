{
 "cells": [
  {
   "cell_type": "code",
   "execution_count": null,
   "metadata": {},
   "outputs": [],
   "source": [
    "## 字典方式读取，但是大文件读取太慢了\n",
    "# from ruamel import yaml\n",
    "\n",
    "# yaml_path = r'H:\\WenLabData\\TestYamlData\\test.yaml'\n",
    "\n",
    "# # 使用ruamel.yaml并跳过YAML文件的第一行\n",
    "# with open(yaml_path) as fin:\n",
    "#     fin.readline()\n",
    "#     rfr = yaml.round_trip_load(fin)\n",
    "# # print(rfr)\n",
    "# a = rfr['Frames']\n",
    "# print(rfr['Frames'])"
   ]
  },
  {
   "cell_type": "code",
   "execution_count": null,
   "metadata": {},
   "outputs": [],
   "source": [
    "# # 速度也是太慢了\n",
    "# import yaml\n",
    "# yaml_path = r'H:\\WenLabData\\TestYamlData\\del_yaml.yaml'\n",
    "# f = open(yaml_path, 'r', encoding='utf-8')\n",
    "# cfg = f.read()\n",
    "# print(type(cfg))  # 读出来是字符串\n",
    "# print(cfg)\n",
    "\n",
    "# d = yaml.sefe_load(cfg)  # 用load方法转字典\n",
    "# f.close()\n",
    "# # print(d)\n",
    "# print(type(d))"
   ]
  },
  {
   "cell_type": "code",
   "execution_count": null,
   "metadata": {},
   "outputs": [],
   "source": [
    "import os\n",
    "\n",
    "# dataset_path = 'Z:\\\\data2\\\\WormPoseData\\\\ProcessingData\\\\Temp\\\\20210516_2051_w1'\n",
    "\n",
    "# print()\n",
    "# wormname = dataset_path.split('\\\\')[-1]\n",
    "# print(wormname)\n",
    "# yaml_path = os.path.join(dataset_path,wormname,wormname+'.yaml')\n",
    "\n",
    "\n",
    "# yaml_path = r'H:\\WenLabData\\TestYamlData\\test.yaml'\n",
    "\n",
    "# yaml_path = r'H:\\WenLabData\\TestYamlData\\20210516_2051_w1.yaml'\n",
    "\n",
    "# f = open(yaml_path, 'r', encoding='utf-8')\n",
    "# cfg = f.read()\n",
    "# print(type(cfg))  # 读出来是字符串\n",
    "# print(cfg)\n",
    "\n",
    "# d = yaml.load(cfg)  # 用load方法转字典\n",
    "# print(d)\n",
    "# print(type(d))\n",
    "\n",
    "# from ruamel import yaml\n",
    "\n"
   ]
  },
  {
   "cell_type": "code",
   "execution_count": null,
   "metadata": {},
   "outputs": [],
   "source": [
    "import yaml\n",
    "from yaml import load,dump\n",
    "yaml_path = r'H:\\\\WenLabData\\\\TestYamlData\\\\20210516_2051_w1.yaml'\n",
    "\n",
    "Yaml_file = []\n",
    "with open(yaml_path, 'r', encoding='utf-8') as f:\n",
    "    for line in f:\n",
    "        line = line.rstrip('\\n') # 删除末尾的空格\n",
    "        line = line.strip()\n",
    "        Yaml_file.append(line)\n",
    "    # lines = f.readlines()\n",
    "\n",
    "def get_firstFrames_line(lines):\n",
    "    # 获取'Frames: ' 行数\n",
    "    import re\n",
    "    for i in range(30):\n",
    "        if re.match('Frames',lines[i]):\n",
    "            break\n",
    "    return(i)\n",
    "\n",
    "\n",
    "def GetOneFrame(lines,line_start,line_end):\n",
    "    OneFrameList = []\n",
    "    for i in range(line_end,line_start):\n",
    "\n",
    "\n",
    "len(Yaml_file)"
   ]
  },
  {
   "cell_type": "code",
   "execution_count": null,
   "metadata": {},
   "outputs": [],
   "source": [
    "a =range(1,5)\n",
    "a[1]\n",
    "print(a[1])"
   ]
  },
  {
   "cell_type": "code",
   "execution_count": null,
   "metadata": {},
   "outputs": [],
   "source": [
    "first_line = get_firstFrames_line(Yaml_file)\n",
    "a = Yaml_file[first_line]\n",
    "print(a)"
   ]
  },
  {
   "cell_type": "code",
   "execution_count": null,
   "metadata": {},
   "outputs": [],
   "source": [
    "import re\n",
    "line = Yaml_file[14]\n",
    "line5 = Yaml_file[5]\n",
    "line13 = Yaml_file[13]\n",
    "\n",
    "print(Yaml_file)\n",
    "print(Yaml_file[14+99])\n",
    "\n",
    "a = re.match('FrameNumber',line)\n",
    "b = re.match(r'-',line13)"
   ]
  },
  {
   "cell_type": "code",
   "execution_count": null,
   "metadata": {},
   "outputs": [],
   "source": [
    "import tempfile\n",
    "del_lines = lines[1:-1]\n",
    "tempdir = tempfile.gettempdir()\n",
    "wormname = '20210516_2051_w1'\n",
    "\n",
    "tempfile = os.path.join(tempdir,f\"{wormname}.yaml\")\n",
    "\n",
    "print(tempfile)\n",
    "# os.unlink(tempfile)\n",
    "len(lines)"
   ]
  },
  {
   "cell_type": "code",
   "execution_count": null,
   "metadata": {},
   "outputs": [],
   "source": []
  }
 ],
 "metadata": {
  "interpreter": {
   "hash": "2be5faf79681da6f2a61fdfdd5405d65d042280f7fba6178067603e3a2925119"
  },
  "kernelspec": {
   "display_name": "Python 3.10.1 64-bit",
   "language": "python",
   "name": "python3"
  },
  "language_info": {
   "codemirror_mode": {
    "name": "ipython",
    "version": 3
   },
   "file_extension": ".py",
   "mimetype": "text/x-python",
   "name": "python",
   "nbconvert_exporter": "python",
   "pygments_lexer": "ipython3",
   "version": "3.8.8"
  },
  "orig_nbformat": 4
 },
 "nbformat": 4,
 "nbformat_minor": 2
}
