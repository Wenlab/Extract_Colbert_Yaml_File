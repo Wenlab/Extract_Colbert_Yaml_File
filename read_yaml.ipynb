{
 "cells": [
  {
   "cell_type": "code",
   "execution_count": null,
   "metadata": {},
   "outputs": [],
   "source": [
    "## 字典方式读取，但是大文件读取太慢了\n",
    "# from ruamel import yaml\n",
    "\n",
    "# yaml_path = r'H:\\WenLabData\\TestYamlData\\test.yaml'\n",
    "\n",
    "# # 使用ruamel.yaml并跳过YAML文件的第一行\n",
    "# with open(yaml_path) as fin:\n",
    "#     fin.readline()\n",
    "#     rfr = yaml.round_trip_load(fin)\n",
    "# # print(rfr)\n",
    "# a = rfr['Frames']\n",
    "# print(rfr['Frames'])"
   ]
  },
  {
   "cell_type": "code",
   "execution_count": null,
   "metadata": {},
   "outputs": [],
   "source": [
    "# # 速度也是太慢了\n",
    "# import yaml\n",
    "# yaml_path = r'H:\\WenLabData\\TestYamlData\\del_yaml.yaml'\n",
    "# f = open(yaml_path, 'r', encoding='utf-8')\n",
    "# cfg = f.read()\n",
    "# print(type(cfg))  # 读出来是字符串\n",
    "# print(cfg)\n",
    "\n",
    "# d = yaml.sefe_load(cfg)  # 用load方法转字典\n",
    "# f.close()\n",
    "# # print(d)\n",
    "# print(type(d))"
   ]
  },
  {
   "cell_type": "code",
   "execution_count": null,
   "metadata": {},
   "outputs": [],
   "source": [
    "import os\n",
    "\n",
    "# dataset_path = 'Z:\\\\data2\\\\WormPoseData\\\\ProcessingData\\\\Temp\\\\20210516_2051_w1'\n",
    "\n",
    "# print()\n",
    "# wormname = dataset_path.split('\\\\')[-1]\n",
    "# print(wormname)\n",
    "# yaml_path = os.path.join(dataset_path,wormname,wormname+'.yaml')\n",
    "\n",
    "\n",
    "# yaml_path = r'H:\\WenLabData\\TestYamlData\\test.yaml'\n",
    "\n",
    "# yaml_path = r'H:\\WenLabData\\TestYamlData\\20210516_2051_w1.yaml'\n",
    "\n",
    "# f = open(yaml_path, 'r', encoding='utf-8')\n",
    "# cfg = f.read()\n",
    "# print(type(cfg))  # 读出来是字符串\n",
    "# print(cfg)\n",
    "\n",
    "# d = yaml.load(cfg)  # 用load方法转字典\n",
    "# print(d)\n",
    "# print(type(d))\n",
    "\n",
    "# from ruamel import yaml\n",
    "\n"
   ]
  },
  {
   "cell_type": "code",
   "execution_count": 2,
   "metadata": {},
   "outputs": [],
   "source": []
  },
  {
   "cell_type": "code",
   "execution_count": 57,
   "metadata": {},
   "outputs": [],
   "source": [
    "import os\n",
    "import numpy as np\n",
    "workpath = os.getcwd()\n",
    "\n",
    "yaml_path = os.path.join(workpath,'YamlFiles','20210516_2051_w1.yaml')\n",
    "Yaml_file = []\n",
    "\n",
    "\n",
    "with open(yaml_path, 'r', encoding='utf-8') as f:\n",
    "    for line in f:\n",
    "        line = line.rstrip('\\n') # 删除末尾的回车\n",
    "        line = line.strip() # 删除前面的空格\n",
    "        Yaml_file.append(line)\n",
    "    # lines = f.readlines()\n",
    "\n",
    "\n",
    "\n",
    "def Get_Frames_line(lines):\n",
    "    # 获取'Frames: ' 行数\n",
    "    import re\n",
    "    for i in range(30):\n",
    "        if re.match('Frames',lines[i]):\n",
    "            break\n",
    "    return(i)\n",
    "\n",
    "def Get_First_Frames(lines):\n",
    "    linenumber = Get_Frames_line(lines)+2\n",
    "    FramsNumber = lines[linenumber].split(':')[-1]\n",
    "    return(int(FramsNumber))\n",
    "\n",
    "def Get_End_Frames(lines):\n",
    "    # 获取最后一个Frames的开始一行\n",
    "    linenumber = lines[-98].split(':')[-1]\n",
    "    return(int(linenumber))\n",
    "\n",
    "def Get_One_Frame(lines,line_start):\n",
    "    # 获得一帧的所有数据进入一个list\n",
    "    # lines是读取的yaml文件,是一个list\n",
    "    # line_start是这一帧开始的行\n",
    "    OneFrameList = []\n",
    "    for i in range(line_start,line_start+98):\n",
    "        OneFrameList.append(lines[i])\n",
    "    return(OneFrameList)\n",
    "\n",
    "def Get_Any_Frame(lines,number):\n",
    "    # 获取任意指定帧的数据\n",
    "    # 从第1帧开始数\n",
    "    begin_num = Get_First_Frames(lines)\n",
    "    end_num = Get_End_Frames(lines)\n",
    "    All_Frames_num = end_num-begin_num+1  # 总的帧数\n",
    "    if number < 1 or number>All_Frames_num:\n",
    "        print(\"please input:[\",1,\",\",All_Frames_num,\"]\")\n",
    "        return(0)\n",
    "    else:\n",
    "        frames_line_num = Get_Frames_line(lines)+2+(number-1)*99\n",
    "        return(Get_One_Frame(lines,frames_line_num))\n",
    "\n",
    "def Get_ExperimentTime(lines:list):\n",
    "    # 获取'ExperimentTime: '\n",
    "    import re\n",
    "    for i in range(20):\n",
    "        if re.match('ExperimentTime',lines[i]):\n",
    "            break\n",
    "    str0 = lines[i].split('ExperimentTime')\n",
    "    str0 = str0[1].strip(':') # 去除冒号\n",
    "    str0 = str0.replace('\"',\"\") # 去除引号 \"\"\n",
    "    str0 = str0.replace('\\\\n',\"\") # 删除末尾的回车\n",
    "    ExperimentTime = str0\n",
    "    return(ExperimentTime)\n",
    "\n",
    "\n",
    "\n",
    "class YamlFrames(object):\n",
    "    def __init__(self,name: str, framessize: int):\n",
    "        self.name = name\n",
    "        self.ExperimentTime = 'Sun May 16 20:51:33 2021'\n",
    "        self.DefaultGridSizeForNonProtocolIllum = np.array([20,100]) # DefaultGridSizeForNonProtocolIllum\n",
    "        self.FrameNumber = np.zeros((framessize,1))  #internal frame number, not nth recorded frame\n",
    "        self.TimeElapsed = np.zeros((framessize,1)) #time since start of experiment (in s) = sElapsed+ 0.001*msRemElapsed\n",
    "        self.BoundaryA = np.zeros((framessize,2,100)) # N*2*100 x,y BoundaryA position in pixels on camera\n",
    "        self.BoundaryB = np.zeros((framessize,2,100)) # N*2*100 x,y BoundaryB position in pixels on camera\n",
    "        self.SegmentedCenterline = np.zeros((framessize,2,100))  # N*2*100 x,y centerline position in pixels on camera\n",
    "        self.Head = np.zeros((framessize,2)) #position in pixels on camera\n",
    "        self.Tail = np.zeros((framessize,2)) #position in pixels on camera\n",
    "        self.DLPisOn = np.zeros((framessize,1)) #bool whether DLP is active\n",
    "        self.FloodLightIsOn = np.zeros((framessize,1)) #flood light overrides all other patterns and hits entire fov\n",
    "        self.IllumInvert = np.zeros((framessize,1)) #whether pattern is inverted (invert has precedence over floodlight)\n",
    "        self.IllumFlipLR = np.zeros((framessize,1)) #flips output left/right with respect to worm's body\n",
    "        self.IllumRectOrigin = np.zeros((framessize,2)) #center of the freehand rectangular illumination in wormspace\n",
    "        self.IllumRectRadius = np.zeros((framessize,2)) #xy value describing dimension of rectangle\n",
    "        self.StageVelocity = np.zeros((framessize,2)) #velocity sent to stage in stage units/second\n",
    "        self.ProtocolIsOn = np.zeros((framessize,1)) #bool whether you're using protocol\n",
    "        self.ProtocolStep = np.zeros((framessize,1)) #what step within protocol is currently selected\n",
    "        self.GreenLaser = np.zeros((framessize,1))  #int 0-100 of relative laser power. -1 means leaser is not being controlled programmatically\n",
    "        self.BlueLaser = np.zeros((framessize,1)) #int 0-100 of relative laser power. -1 means leaser is not being controlled programmatically\n",
    "        self.HeadCurv = np.zeros((framessize,1)) #curvature of the head\n",
    "        self.HeadCurvDeriv = np.zeros((framessize,1)) #derivative of curvature of the head\n",
    "        self.StagePosition = np.zeros((framessize,2))\n",
    "        self.StageFeedbackTarget = np.zeros((framessize,2))\n",
    "\n",
    "    # def Get_ExperimentTime(self,lines):\n",
    "    #     # 输入List\n",
    "        \n",
    "\n",
    "\n"
   ]
  },
  {
   "cell_type": "code",
   "execution_count": null,
   "metadata": {},
   "outputs": [],
   "source": [
    "class Extract_OneFrame():\n",
    "    # \n",
    "    def __ini__(self,OneFrameList:list):\n",
    "        self.FrameNumber = OneFrameList[0].split(':')[-1]\n",
    "        self."
   ]
  },
  {
   "cell_type": "code",
   "execution_count": 62,
   "metadata": {},
   "outputs": [
    {
     "name": "stdout",
     "output_type": "stream",
     "text": [
      " Sun May 16 20:51:33 2021\n"
     ]
    }
   ],
   "source": [
    "\n",
    "begin_num1 = Get_First_Frames(Yaml_file)\n",
    "end_num = Get_End_Frames(Yaml_file)\n",
    "All_Frames_num = end_num-begin_num1+1  # 总的帧数\n",
    "\n",
    "b = Get_Any_Frame(Yaml_file,2)\n",
    "c = Get_Any_Frame(Yaml_file,3)\n",
    "d = Get_Any_Frame(Yaml_file,43228)\n",
    "\n",
    "\n",
    "wormname = \"20210516_2051_w1\"\n",
    "\n",
    "# 初始化类\n",
    "YamlFiles = YamlFrames(wormname,All_Frames_num)\n",
    "YamlFiles.ExperimentTime = Get_ExperimentTime(Yaml_file)\n",
    "print(YamlFiles.ExperimentTime)"
   ]
  },
  {
   "cell_type": "code",
   "execution_count": 52,
   "metadata": {},
   "outputs": [],
   "source": [
    "class Circle(object):  # 创建Circle类\n",
    "   def __init__(self, R):  # 约定成俗这里应该使用r，它与self.r中的r同名\n",
    "       self.r = R\n",
    "\n",
    "circle1 = Circle(1)  "
   ]
  },
  {
   "cell_type": "code",
   "execution_count": 8,
   "metadata": {},
   "outputs": [
    {
     "name": "stdout",
     "output_type": "stream",
     "text": [
      "8714\n",
      "51941\n",
      "FrameNumber: 8714\n"
     ]
    }
   ],
   "source": [
    "print(Get_First_Frames(Yaml_file))\n",
    "print(Get_End_Frames(Yaml_file))\n",
    "\n",
    "a = Get_Frames_line(Yaml_file)\n",
    "print(Yaml_file[a+2])\n"
   ]
  }
 ],
 "metadata": {
  "interpreter": {
   "hash": "2be5faf79681da6f2a61fdfdd5405d65d042280f7fba6178067603e3a2925119"
  },
  "kernelspec": {
   "display_name": "Python 3.10.1 64-bit",
   "language": "python",
   "name": "python3"
  },
  "language_info": {
   "codemirror_mode": {
    "name": "ipython",
    "version": 3
   },
   "file_extension": ".py",
   "mimetype": "text/x-python",
   "name": "python",
   "nbconvert_exporter": "python",
   "pygments_lexer": "ipython3",
   "version": "3.8.8"
  },
  "orig_nbformat": 4
 },
 "nbformat": 4,
 "nbformat_minor": 2
}
