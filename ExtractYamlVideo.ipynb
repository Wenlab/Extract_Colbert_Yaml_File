{
 "cells": [
  {
   "cell_type": "code",
   "execution_count": null,
   "outputs": [],
   "source": [
    "\"\"\"\n",
    "视频缩小了一倍进行存储的\n",
    "\"\"\"\n",
    "\n",
    "from YamlLib.YamlFrames import YamlExportMatAll\n",
    "import time,os\n",
    "from YamlLib.YamlFrames import Extract_Yaml_Multiprocess_one,YamlExportMatOne\n",
    "\n",
    "\n",
    "data_folder = '***'\n",
    "SaveFolder = os.path.join(data_folder,'ExtractData')\n",
    "\n",
    "YamlExportMatAll(data_folder,SaveFolder=SaveFolder,\n",
    "                 Centerline=True,\n",
    "                 curvedatafiltered=True,\n",
    "                 TimeElapsed=True,\n",
    "                 Head=True,\n",
    "                 mean_worm_length=True,\n",
    "                 name=True,\n",
    "                 worm_length=True\n",
    "                 )"
   ],
   "metadata": {
    "collapsed": false,
    "pycharm": {
     "name": "#%%\n"
    }
   }
  },
  {
   "cell_type": "code",
   "execution_count": 5,
   "outputs": [],
   "source": [
    "import cv2\n",
    "from cv2 import *\n",
    "import numpy as np\n",
    "\n",
    "cap = cv2.VideoCapture(videofilepath)\n",
    "\n",
    "\n",
    "# line = np.array(centerline[i]).transpose()\n",
    "\n",
    "def CenterlineToBox(centerline: list):\n",
    "    a = np.array(centerline)\n",
    "    bmin = np.min(a, axis=0)\n",
    "    bmax = np.max(a, axis=0)\n",
    "    width = int(np.max([bmax[0] - bmin[0], bmax[1] - bmin[1]]) * 0.15)\n",
    "\n",
    "    bxmin = int(bmin[0]) - width\n",
    "    bxmax = int(bmax[0]) + width\n",
    "    bymin = int(bmin[1]) - width\n",
    "    bymax = int(bmax[1]) + width\n",
    "\n",
    "    # gray = cv2.cvtColor(img, cv2.COLOR_BGR2GRAY)  # 转为灰度图\n",
    "    # mask = np.full_like(gray, 0)\n",
    "    # mask[bymin:bymax, bxmin:bxmax] = 1  # 把box区域全部置为1\n",
    "\n",
    "    # img2 = gray * mask\n",
    "    # return gray[bymin:bymax, bxmin:bxmax], gray * mask\n",
    "    return [[bxmin, bymin], [bxmax, bymax]]"
   ],
   "metadata": {
    "collapsed": false,
    "pycharm": {
     "name": "#%%\n"
    }
   }
  },
  {
   "cell_type": "code",
   "execution_count": 10,
   "outputs": [],
   "source": [
    "box = CenterlineToBox(centerline[i])\n",
    "\n",
    "cap.set(cv2.CAP_PROP_POS_FRAMES,0)  #设置要获取的帧号\n",
    "a,img=cap.read()  #read方法返回一个布尔值和一个视频帧。若帧读取成功，则返回True\n",
    "\n",
    "\n",
    "cv2.rectangle(img,tuple(list(map(int, box[0]))),tuple(list(map(int, box[1]))),color=(255,255,255),thickness=1)\n",
    "\n",
    "cv2.imshow('img',img)\n",
    "cv2.waitKey(0)\n",
    "cv2.destroyAllWindows()"
   ],
   "metadata": {
    "collapsed": false,
    "pycharm": {
     "name": "#%%\n"
    }
   }
  },
  {
   "cell_type": "code",
   "execution_count": null,
   "outputs": [],
   "source": [],
   "metadata": {
    "collapsed": false,
    "pycharm": {
     "name": "#%%\n"
    }
   }
  }
 ],
 "metadata": {
  "kernelspec": {
   "name": "extractyaml",
   "language": "python",
   "display_name": "ExtractYaml"
  },
  "language_info": {
   "codemirror_mode": {
    "name": "ipython",
    "version": 2
   },
   "file_extension": ".py",
   "mimetype": "text/x-python",
   "name": "python",
   "nbconvert_exporter": "python",
   "pygments_lexer": "ipython2",
   "version": "2.7.6"
  }
 },
 "nbformat": 4,
 "nbformat_minor": 0
}