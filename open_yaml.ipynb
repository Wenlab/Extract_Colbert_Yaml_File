{
 "cells": [
  {
   "cell_type": "code",
   "execution_count": 64,
   "metadata": {},
   "outputs": [],
   "source": [
    "yaml_path = r'H:\\\\WenLabData\\\\TestYamlData\\\\20210516_2105_w2.yaml'\n",
    "\n",
    "Yaml_file = []\n",
    "\n",
    "with open(yaml_path, 'r', encoding='utf-8') as f:\n",
    "    for line in f:\n",
    "        line = line.rstrip('\\n') # 删除末尾的空格\n",
    "        line = line.strip()\n",
    "        Yaml_file.append(line)\n",
    "    # lines = f.readlines()\n",
    "\n",
    "def Get_Frames_line(lines):\n",
    "    # 获取'Frames: ' 的行数\n",
    "    import re\n",
    "    for i in range(30):\n",
    "        if re.match('Frames',lines[i]):\n",
    "            break\n",
    "    return(i)\n",
    "\n",
    "def Get_First_Frames(lines):\n",
    "    # 获取第一帧的的帧 number\n",
    "    line_number = Get_Frames_line(lines)+2\n",
    "    FirstFrameNumber = lines[line_number].split(':')[-1]\n",
    "    return(int(FirstFrameNumber))\n",
    "\n",
    "def Get_End_Frames(lines):\n",
    "    # 获取最后一帧的number\n",
    "    line_number = lines[-98]\n",
    "    EndFrameNumber = line_number.split(':')[-1]\n",
    "    return(int(EndFrameNumber))\n",
    "\n",
    "def Get_One_Frame(files,line_start):\n",
    "    # 提取一个Frame的所有行，一共98行\n",
    "    OneFrameList = []\n",
    "    for i in range(line_start,line_start+98):\n",
    "        OneFrameList.append(files[i])\n",
    "    return(OneFrameList)\n",
    "\n"
   ]
  },
  {
   "cell_type": "code",
   "execution_count": 67,
   "metadata": {},
   "outputs": [
    {
     "name": "stdout",
     "output_type": "stream",
     "text": [
      "13109\n",
      "51803\n"
     ]
    }
   ],
   "source": [
    "print(Get_First_Frames(Yaml_file))\n",
    "print(Get_End_Frames(Yaml_file))"
   ]
  },
  {
   "cell_type": "code",
   "execution_count": 42,
   "metadata": {},
   "outputs": [],
   "source": [
    "first_line = Get_Frames_line(Yaml_file)\n",
    "\n",
    "first_Frame_num = first_line+2\n",
    "frame_1 = Get_One_Frame(Yaml_file,first_Frame_num)"
   ]
  },
  {
   "cell_type": "code",
   "execution_count": 46,
   "metadata": {},
   "outputs": [
    {
     "data": {
      "text/plain": [
       "0"
      ]
     },
     "execution_count": 46,
     "metadata": {},
     "output_type": "execute_result"
    }
   ],
   "source": [
    "class YamlFrames(object):\n",
    "    def __init__(self,name: str, framesize: int):\n",
    "        # name 输入线虫的名字\n",
    "        # framesize 帧数\n",
    "        self.name = name\n",
    "        FrameNumber = np.zeros((framesize,1)) # internal frame number, not nth recorded frame\n",
    "        self.sElapsed = 0  # 初始的时间\n",
    "        TimeElapsed = np.zeros((framesize,1)) # time since start of experiment (in s)\n",
    "        Head = np.zeros((framesize,2)) #position in pixels on camera\n",
    "        Tail = np.zeros((framesize,2)) #position in pixels on camera\n",
    "        BoundaryA = np.zeros((framesize,2,100)) #2*N length vector xyxyxy position in pixels on camera\n",
    "        BoundaryB = np.zeros((framesize,2,100)) #2*N length vector xyxyxy position in pixels on camera\n",
    "        SegmentedCenterline = np.zeros((framesize,2,100))  #2*N length vector xyxyxy position in pixels on camera\n",
    "        DLPisOn = np.zeros((framesize,1)) #bool whether DLP is active\n",
    "        FloodLightIsOn = np.zeros((framesize,1)) #flood light overrides all other patterns and hits entire fov\n",
    "        IllumInvert = np.zeros((framesize,1)) #whether pattern is inverted (invert has precedence over floodlight)\n",
    "        IllumFlipLR = np.zeros((framesize,1)) #flips output left/right with respect to worm's body\n",
    "        IllumRectOrigin = np.zeros((framesize,2)) #center of the freehand rectangular illumination in wormspace\n",
    "        IllumRectRadius = np.zeros((framesize,2)) #xy value describing dimension of rectangle\n",
    "        StageVelocity = np.zeros((framesize,2)) #velocity sent to stage in stage units/second\n",
    "        ProtocolIsOn = np.zeros((framesize,1)) #bool whether you're using protocol\n",
    "        ProtocolStep = np.zeros((framesize,1)) #what step within protocol is currently selected\n",
    "        GreenLaser = np.zeros((framesize,1)) #int 0-100 of relative laser power. -1 means leaser is not being controlled programmatically\n",
    "        BlueLaser = np.zeros((framesize,1)) #int 0-100 of relative laser power. -1 means leaser is not being controlled programmatically\n",
    "        HeadCurv = np.zeros((framesize,1)) #curvature of the head\n",
    "        HeadCurvDeriv = np.zeros((framesize,1)) #derivative of curvature of the head\n",
    "        StagePosition = np.zeros((framesize,2)) \n",
    "        StageFeedbackTarget =np.zeros((framesize,2))\n",
    "\n",
    "\n",
    "x = YamlFrames('w0')\n",
    "x.name = 'w0'\n",
    "# x.FrameNumber\n",
    "x.sElapsed"
   ]
  },
  {
   "cell_type": "code",
   "execution_count": 75,
   "metadata": {},
   "outputs": [],
   "source": [
    "import numpy as np\n",
    "dict1 = {'ExperimentTime':'str','test':np.zeros((2,3)),'sElapsed':np.zeros((2,3,4))}"
   ]
  },
  {
   "cell_type": "code",
   "execution_count": 78,
   "metadata": {},
   "outputs": [
    {
     "name": "stdout",
     "output_type": "stream",
     "text": [
      "0.0\n",
      "0.0\n"
     ]
    }
   ],
   "source": [
    "print(dict1['test'][1,2])\n",
    "print(dict1['sElapsed'][1,2,3])\n",
    "# x.shape"
   ]
  },
  {
   "cell_type": "code",
   "execution_count": null,
   "metadata": {},
   "outputs": [],
   "source": []
  }
 ],
 "metadata": {
  "interpreter": {
   "hash": "96eb50e1d44aed467dc8f759cb08c32fbfa9babcf79c554e2d0e5feb04653a10"
  },
  "kernelspec": {
   "display_name": "Python 3.8.8 ('base')",
   "language": "python",
   "name": "python3"
  },
  "language_info": {
   "codemirror_mode": {
    "name": "ipython",
    "version": 3
   },
   "file_extension": ".py",
   "mimetype": "text/x-python",
   "name": "python",
   "nbconvert_exporter": "python",
   "pygments_lexer": "ipython3",
   "version": "3.8.8"
  },
  "orig_nbformat": 4
 },
 "nbformat": 4,
 "nbformat_minor": 2
}
