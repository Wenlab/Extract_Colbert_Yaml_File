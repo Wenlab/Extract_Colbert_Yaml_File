{
 "cells": [
  {
   "cell_type": "code",
   "execution_count": 1,
   "metadata": {},
   "outputs": [
    {
     "name": "stdout",
     "output_type": "stream",
     "text": [
      "本地计算机有: 8 核心\n",
      "多进程计算 共消耗: 0.00 秒\n"
     ]
    }
   ],
   "source": [
    "# 查看有多少核\n",
    "import math\n",
    "import datetime\n",
    "import multiprocessing as mp\n",
    "import numpy as np\n",
    "\n",
    "start_t = datetime.datetime.now()\n",
    "num_cores = int(mp.cpu_count())\n",
    "print(\"本地计算机有: \" + str(num_cores) + \" 核心\")\n",
    "\n",
    "end_t = datetime.datetime.now()\n",
    "elapsed_sec = (end_t - start_t).total_seconds()\n",
    "print(\"多进程计算 共消耗: \" + \"{:.2f}\".format(elapsed_sec) + \" 秒\")"
   ]
  },
  {
   "cell_type": "code",
   "execution_count": 1,
   "metadata": {},
   "outputs": [
    {
     "name": "stdout",
     "output_type": "stream",
     "text": [
      "本地计算机有: 8 核心\n"
     ]
    }
   ],
   "source": [
    "import math\n",
    "import datetime\n",
    "import multiprocessing as mp\n",
    "import numpy as np\n",
    "\n",
    "\n",
    "def train_on_parameter(name, param):\n",
    "    result = 0\n",
    "    for num in param:\n",
    "        result += math.sqrt(num * math.tanh(num) / math.log2(num) / math.log10(num))\n",
    "    return {name: result}\n",
    "\n",
    "def test_print(name,param):\n",
    "    result = 0\n",
    "    print(param)\n",
    "    return{name: result}\n",
    "\n",
    "start_t = datetime.datetime.now()\n",
    "\n",
    "num_cores = int(mp.cpu_count())\n",
    "print(\"本地计算机有: \" + str(num_cores) + \" 核心\")\n",
    "pool = mp.Pool(num_cores)\n",
    "\n",
    "param_dict = {'task1': np.array([1,3,4]),\n",
    "              'task2': np.array([2,3,4]),\n",
    "              'task3': np.array([3,3,4]),\n",
    "              'task4': np.array([4,3,4]),\n",
    "              'task5': np.array([5,3,4]),\n",
    "              'task6': np.array([6,3,4]),\n",
    "              'task7': np.array([7,3,4]),\n",
    "              'task8': np.array([8,3,4])}\n",
    "\n",
    "# param_dict = {'task1': list(range(10, 30000000)),\n",
    "#               'task2': list(range(30000000, 60000000)),\n",
    "#               'task3': list(range(60000000, 90000000)),\n",
    "#               'task4': list(range(90000000, 120000000)),\n",
    "#               'task5': list(range(120000000, 150000000)),\n",
    "#               'task6': list(range(150000000, 180000000)),\n",
    "#               'task7': list(range(180000000, 210000000)),\n",
    "#               'task8': list(range(210000000, 240000000))}\n",
    "# results = [pool.apply_async(train_on_parameter, args=(name, param)) for name, param in param_dict.items()]\n",
    "# results = [p.get() for p in results]\n",
    "\n",
    "\n",
    "results = [pool.apply_async(test_print, args=(name, param)) for name, param in param_dict.items()]\n",
    "results = [p.get() for p in results]\n",
    "\n",
    "end_t = datetime.datetime.now()\n",
    "elapsed_sec = (end_t - start_t).total_seconds()\n",
    "print(\"多进程计算 共消耗: \" + \"{:.2f}\".format(elapsed_sec) + \" 秒\")"
   ]
  },
  {
   "cell_type": "code",
   "execution_count": 2,
   "metadata": {},
   "outputs": [
    {
     "name": "stdout",
     "output_type": "stream",
     "text": [
      "[1 2 3]\n"
     ]
    }
   ],
   "source": [
    "import numpy as np\n",
    "print(np.array([1,2,3]))"
   ]
  },
  {
   "cell_type": "code",
   "execution_count": 5,
   "metadata": {},
   "outputs": [],
   "source": [
    "import multiprocessing as mp\n",
    "def f(a):\n",
    "    print(a)\n",
    "    pass\n",
    "\n",
    "pool =mp.Pool()\n",
    "result = pool.map_async(f,(1,2,3,4,5,6)).get()\n",
    "pool.close\n",
    "pool.join\n",
    "print(result)\n"
   ]
  },
  {
   "cell_type": "code",
   "execution_count": 1,
   "metadata": {},
   "outputs": [],
   "source": [
    "from numpy import *\n",
    "import datetime\n",
    "import multiprocessing as mp\n",
    "\n",
    "start_t = datetime.datetime.now()\n",
    "num_cores = int(mp.cpu_count())\n",
    "\n",
    "\n",
    "p=mp.Pool(num_cores) #创建含有8个进程的进程池\n",
    "results=[] #存放每一个进程返回的结果\n",
    "\n",
    "def fx(a):\n",
    "    b = a+1\n",
    "    # print(a)\n",
    "    return(b)\n",
    "\n",
    "for i in range(num_cores): # 启动8个进程\n",
    "    r=p.apply_async(fx,args=(i,)) # 产生一个非同步进程，函数newsin的参数用args传递\n",
    "    results.append(r) # 将返回结果放入results\n",
    "    \n",
    "\n",
    "p.close() #关闭进程池\n",
    "p.join()  #结束\n",
    "\n",
    "for item in results:\n",
    "    print(item.get())\n",
    "\n",
    "end_t = datetime.datetime.now()\n",
    "elapsed_sec = (end_t - start_t).total_seconds()\n",
    "print(\"多进程计算 共消耗: \" + \"{:.2f}\".format(elapsed_sec) + \" 秒\")"
   ]
  },
  {
   "cell_type": "code",
   "execution_count": null,
   "metadata": {},
   "outputs": [],
   "source": [
    "# 获取返回结果\n",
    "for i in results:\n",
    "    print(i.get())\n"
   ]
  }
 ],
 "metadata": {
  "interpreter": {
   "hash": "96eb50e1d44aed467dc8f759cb08c32fbfa9babcf79c554e2d0e5feb04653a10"
  },
  "kernelspec": {
   "display_name": "Python 3.8.8 ('base')",
   "language": "python",
   "name": "python3"
  },
  "language_info": {
   "codemirror_mode": {
    "name": "ipython",
    "version": 3
   },
   "file_extension": ".py",
   "mimetype": "text/x-python",
   "name": "python",
   "nbconvert_exporter": "python",
   "pygments_lexer": "ipython3",
   "version": "3.8.8"
  },
  "orig_nbformat": 4
 },
 "nbformat": 4,
 "nbformat_minor": 2
}
