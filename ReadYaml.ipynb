{
 "cells": [
  {
   "cell_type": "code",
   "execution_count": 1,
   "metadata": {},
   "outputs": [
    {
     "name": "stdout",
     "output_type": "stream",
     "text": [
      "OS is Windows\n"
     ]
    }
   ],
   "source": [
    "import os\n",
    "import sys\n",
    "import platform\n",
    "from Lib.YamlFrames import OpenYaml\n",
    "\n",
    "\n",
    "workpath = os.getcwd()\n",
    "\n",
    "yaml_path = os.path.join(workpath,'YamlFiles','20210516_2051_w1.yaml')\n",
    "\n",
    "\n",
    "\n",
    "\n",
    "ListFile = OpenYaml(yaml_path)\n",
    "\n",
    "sysl = platform.system()\n",
    "if sysl == \"Windows\":\n",
    "    print(\"OS is Windows\")\n",
    "elif sysl == \"Linux\":\n",
    "    print(\"Os is Linux\")\n",
    "    pass\n",
    "else:\n",
    "    pass\n",
    "\n",
    "if sysl == \"Windows\":\n",
    "    wormname = yaml_path.split('\\\\')[-1]\n",
    "    wormname = wormname.split(\".\")[0]\n",
    "elif sysl == \"Linux\":\n",
    "    wormname = yaml_path.split('/')[-1]\n",
    "    wormname = wormname.split(\".\")[0]"
   ]
  },
  {
   "cell_type": "code",
   "execution_count": 2,
   "metadata": {},
   "outputs": [
    {
     "name": "stdout",
     "output_type": "stream",
     "text": [
      " Sun May 16 20:51:33 2021\n",
      "[[ 20. 100.]]\n"
     ]
    }
   ],
   "source": [
    "from Lib.YamlFrames import YamlFrames\n",
    "from Lib.YamlFrames import Get_First_Frames,Get_End_Frames,Get_ExperimentTime,Get_DefaultGrid\n",
    "\n",
    "\n",
    "\n",
    "begin_num1 = Get_First_Frames(ListFile)\n",
    "end_num = Get_End_Frames(ListFile)\n",
    "All_Frames_num = end_num-begin_num1+1  # 总的帧数\n",
    "\n",
    "YamlFiles = YamlFrames(wormname,All_Frames_num)\n",
    "YamlFiles.ExperimentTime = Get_ExperimentTime(ListFile)\n",
    "YamlFiles.DefaultGridSizeForNonProtocolIllum = Get_DefaultGrid(ListFile)\n",
    "\n",
    "print(YamlFiles.ExperimentTime)\n",
    "print(YamlFiles.DefaultGridSizeForNonProtocolIllum)"
   ]
  },
  {
   "cell_type": "code",
   "execution_count": 4,
   "metadata": {},
   "outputs": [],
   "source": [
    "from Lib.YamlFrames import Get_Any_Frame,Extract_OneFrame\n",
    "framelist = Get_Any_Frame(ListFile,1) # 提取的一帧的内容"
   ]
  },
  {
   "cell_type": "code",
   "execution_count": 9,
   "metadata": {},
   "outputs": [],
   "source": [
    "\n",
    "for i in range(0,All_Frames_num):\n",
    "    framelist = Get_Any_Frame(ListFile,i+1) # 提取的一帧的内容\n",
    "    frame = Extract_OneFrame(framelist)\n",
    "    YamlFiles.FrameNumber[i,:] = frame.FrameNumber #internal frame number, not nth recorded frame\n",
    "    YamlFiles.TimeElapsed[i,:] = frame.TimeElapsed #time since start of experiment (in s) = sElapsed+ 0.001*msRemElapsed\n",
    "    YamlFiles.BoundaryA[i,0,:] = frame.BoundaryA[0,:] # N*2*100 x,y BoundaryA position in pixels on camera\n",
    "    YamlFiles.BoundaryA[i,1,:] = frame.BoundaryA[1,:]\n",
    "    \n",
    "    YamlFiles.BoundaryB[i,0,:] = frame.BoundaryB[0,:] # N*2*100 x,y BoundaryB position in pixels on camera\n",
    "    YamlFiles.BoundaryB[i,1,:] = frame.BoundaryB[1,:]\n",
    "    \n",
    "    YamlFiles.Centerline[i,0,:] = frame.Centerline[0,:]  # N*2*100 x,y centerline position in pixels on camera\n",
    "    YamlFiles.Centerline[i,1,:] = frame.Centerline[1,:]\n",
    "    \n",
    "    YamlFiles.Head[i,:] = frame.Head[:]  #position in pixels on camera\n",
    "    YamlFiles.Tail[i,:] = frame.Tail[:]  #position in pixels on camera\n",
    "    YamlFiles.DLPisOn[i] = frame.DLPisOn #bool whether DLP is active\n",
    "    \n",
    "    YamlFiles.FloodLightIsOn[i] = frame.FloodLightIsOn #flood light overrides all other patterns and hits entire fov\n",
    "    YamlFiles.IllumInvert[i] = frame.IllumInvert #whether pattern is inverted (invert has precedence over floodlight)\n",
    "    YamlFiles.IllumFlipLR[i] = frame.IllumFlipLR #flips output left/right with respect to worm's body\n",
    "    YamlFiles.IllumRectOrigin[i,:] = frame.IllumRectOrigin[:] #center of the freehand rectangular illumination in wormspace\n",
    "    YamlFiles.IllumRectRadius[i,:] = frame.IllumRectRadius[:] #xy value describing dimension of rectangle\n",
    "    YamlFiles.StageVelocity[i,:] = frame.StageVelocity[:] #velocity sent to stage in stage units/second\n",
    "    YamlFiles.StagePosition[i,:] = frame.StagePosition[:]\n",
    "    YamlFiles.StageFeedbackTarget[i,:] = frame.StageFeedbackTarget[:]\n",
    "    YamlFiles.FirstLaser[i] = frame.FirstLaser\n",
    "    YamlFiles.SecondLaser[i] = frame.SecondLaser\n",
    "    YamlFiles.ProtocolIsOn[i] = frame.ProtocolIsOn\n",
    "    YamlFiles.ProtocolStep[i] =frame.ProtocolStep\n",
    "    # YamlFiles.LaserPower.append(frame.LaserPower)"
   ]
  },
  {
   "cell_type": "code",
   "execution_count": null,
   "metadata": {},
   "outputs": [],
   "source": [
    "out_path = os.path.join(workpath,'YamlFiles',wormname+'')"
   ]
  },
  {
   "cell_type": "code",
   "execution_count": 12,
   "metadata": {},
   "outputs": [
    {
     "name": "stdout",
     "output_type": "stream",
     "text": [
      "43228\n"
     ]
    }
   ],
   "source": [
    "print(len(YamlFiles.DLPisOn))"
   ]
  },
  {
   "cell_type": "code",
   "execution_count": null,
   "metadata": {},
   "outputs": [],
   "source": []
  }
 ],
 "metadata": {
  "interpreter": {
   "hash": "96eb50e1d44aed467dc8f759cb08c32fbfa9babcf79c554e2d0e5feb04653a10"
  },
  "kernelspec": {
   "display_name": "Python 3.8.8 ('base')",
   "language": "python",
   "name": "python3"
  },
  "language_info": {
   "codemirror_mode": {
    "name": "ipython",
    "version": 3
   },
   "file_extension": ".py",
   "mimetype": "text/x-python",
   "name": "python",
   "nbconvert_exporter": "python",
   "pygments_lexer": "ipython3",
   "version": "3.8.8"
  },
  "orig_nbformat": 4
 },
 "nbformat": 4,
 "nbformat_minor": 2
}
