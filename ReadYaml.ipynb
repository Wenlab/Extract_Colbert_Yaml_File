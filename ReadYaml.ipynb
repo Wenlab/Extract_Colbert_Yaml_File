{
 "cells": [
  {
   "cell_type": "code",
   "execution_count": 1,
   "metadata": {},
   "outputs": [
    {
     "name": "stdout",
     "output_type": "stream",
     "text": [
      "OS is Windows\n"
     ]
    }
   ],
   "source": [
    "import os\n",
    "import time\n",
    "import sys\n",
    "import platform\n",
    "from Lib.YamlFrames import OpenYaml\n",
    "\n",
    "time_start = time.time()\n",
    "\n",
    "workpath = os.getcwd()\n",
    "\n",
    "yaml_path = os.path.join(workpath,'YamlFiles','20210516_2051_w1.yaml')\n",
    "\n",
    "\n",
    "\n",
    "\n",
    "ListFile = OpenYaml(yaml_path)\n",
    "\n",
    "sysl = platform.system()\n",
    "if sysl == \"Windows\":\n",
    "    print(\"OS is Windows\")\n",
    "elif sysl == \"Linux\":\n",
    "    print(\"Os is Linux\")\n",
    "    pass\n",
    "else:\n",
    "    pass\n",
    "\n",
    "if sysl == \"Windows\":\n",
    "    wormname = yaml_path.split('\\\\')[-1]\n",
    "    wormname = wormname.split(\".\")[0]\n",
    "elif sysl == \"Linux\":\n",
    "    wormname = yaml_path.split('/')[-1]\n",
    "    wormname = wormname.split(\".\")[0]"
   ]
  },
  {
   "cell_type": "code",
   "execution_count": 2,
   "metadata": {},
   "outputs": [
    {
     "name": "stdout",
     "output_type": "stream",
     "text": [
      " Sun May 16 20:51:33 2021\n",
      "[[ 20. 100.]]\n"
     ]
    }
   ],
   "source": [
    "from Lib.YamlFrames import YamlFrames\n",
    "from Lib.YamlFrames import Get_First_Frames,Get_End_Frames,Get_ExperimentTime,Get_DefaultGrid\n",
    "\n",
    "\n",
    "\n",
    "begin_num1 = Get_First_Frames(ListFile)\n",
    "end_num = Get_End_Frames(ListFile)\n",
    "All_Frames_num = end_num-begin_num1+1  # 总的帧数\n",
    "\n",
    "YamlFiles = YamlFrames(wormname,All_Frames_num)\n",
    "YamlFiles.ExperimentTime = Get_ExperimentTime(ListFile)\n",
    "YamlFiles.DefaultGridSizeForNonProtocolIllum = Get_DefaultGrid(ListFile)\n",
    "\n",
    "print(YamlFiles.ExperimentTime)\n",
    "print(YamlFiles.DefaultGridSizeForNonProtocolIllum)"
   ]
  },
  {
   "cell_type": "code",
   "execution_count": 3,
   "metadata": {},
   "outputs": [],
   "source": [
    "from Lib.YamlFrames import Get_Any_Frame,Extract_OneFrame\n",
    "framelist = Get_Any_Frame(ListFile,1) # 提取的一帧的内容"
   ]
  },
  {
   "cell_type": "code",
   "execution_count": 4,
   "metadata": {},
   "outputs": [
    {
     "name": "stdout",
     "output_type": "stream",
     "text": [
      "time cost: 14.405996561050415 s\n"
     ]
    }
   ],
   "source": [
    "\n",
    "for i in range(0,All_Frames_num):\n",
    "    framelist = Get_Any_Frame(ListFile,i+1) # 提取的一帧的内容\n",
    "    frame = Extract_OneFrame(framelist)\n",
    "    YamlFiles.FrameNumber[i,:] = frame.FrameNumber #internal frame number, not nth recorded frame\n",
    "    YamlFiles.TimeElapsed[i,:] = frame.TimeElapsed #time since start of experiment (in s) = sElapsed+ 0.001*msRemElapsed\n",
    "    YamlFiles.BoundaryA[i,0,:] = frame.BoundaryA[0,:] # N*2*100 x,y BoundaryA position in pixels on camera\n",
    "    YamlFiles.BoundaryA[i,1,:] = frame.BoundaryA[1,:]\n",
    "    \n",
    "    YamlFiles.BoundaryB[i,0,:] = frame.BoundaryB[0,:] # N*2*100 x,y BoundaryB position in pixels on camera\n",
    "    YamlFiles.BoundaryB[i,1,:] = frame.BoundaryB[1,:]\n",
    "    \n",
    "    YamlFiles.Centerline[i,0,:] = frame.Centerline[0,:]  # N*2*100 x,y centerline position in pixels on camera\n",
    "    YamlFiles.Centerline[i,1,:] = frame.Centerline[1,:]\n",
    "    \n",
    "    YamlFiles.Head[i,:] = frame.Head[:]  #position in pixels on camera\n",
    "    YamlFiles.Tail[i,:] = frame.Tail[:]  #position in pixels on camera\n",
    "    YamlFiles.DLPisOn[i] = frame.DLPisOn #bool whether DLP is active\n",
    "    \n",
    "    YamlFiles.FloodLightIsOn[i] = frame.FloodLightIsOn #flood light overrides all other patterns and hits entire fov\n",
    "    YamlFiles.IllumInvert[i] = frame.IllumInvert #whether pattern is inverted (invert has precedence over floodlight)\n",
    "    YamlFiles.IllumFlipLR[i] = frame.IllumFlipLR #flips output left/right with respect to worm's body\n",
    "    YamlFiles.IllumRectOrigin[i,:] = frame.IllumRectOrigin[:] #center of the freehand rectangular illumination in wormspace\n",
    "    YamlFiles.IllumRectRadius[i,:] = frame.IllumRectRadius[:] #xy value describing dimension of rectangle\n",
    "    YamlFiles.StageVelocity[i,:] = frame.StageVelocity[:] #velocity sent to stage in stage units/second\n",
    "    YamlFiles.StagePosition[i,:] = frame.StagePosition[:]\n",
    "    YamlFiles.StageFeedbackTarget[i,:] = frame.StageFeedbackTarget[:]\n",
    "    YamlFiles.FirstLaser[i] = frame.FirstLaser\n",
    "    YamlFiles.SecondLaser[i] = frame.SecondLaser\n",
    "    YamlFiles.ProtocolIsOn[i] = frame.ProtocolIsOn\n",
    "    YamlFiles.ProtocolStep[i] =frame.ProtocolStep\n",
    "    # YamlFiles.LaserPower.append(frame.LaserPower)\n",
    "time_end = time.time()\n",
    "print('time cost:',time_end-time_start,'s')"
   ]
  },
  {
   "cell_type": "code",
   "execution_count": 5,
   "metadata": {},
   "outputs": [],
   "source": [
    "out_path = os.path.join(workpath,'YamlFiles',wormname+'')"
   ]
  },
  {
   "cell_type": "code",
   "execution_count": 6,
   "metadata": {},
   "outputs": [
    {
     "name": "stdout",
     "output_type": "stream",
     "text": [
      "43228\n"
     ]
    }
   ],
   "source": [
    "print(len(YamlFiles.DLPisOn))"
   ]
  },
  {
   "cell_type": "code",
   "execution_count": 17,
   "metadata": {},
   "outputs": [],
   "source": []
  },
  {
   "cell_type": "code",
   "execution_count": 20,
   "metadata": {},
   "outputs": [
    {
     "data": {
      "image/png": "[encoded data removed]",
      "text/plain": [
       "<Figure size 432x288 with 1 Axes>"
      ]
     },
     "metadata": {
      "needs_background": "light"
     },
     "output_type": "display_data"
    }
   ],
   "source": [
    "\n",
    "\n",
    "import numpy as np\n",
    "import matplotlib.pyplot as plt\n",
    "\n",
    "a = '0.284371475141523\t0.392907474407229\t0.535406533165936\t0.692715913608559\t0.851740237821579\t1.09092947471516\t1.25031895294287\t1.48738646088281\t1.62260354737324\t1.82275370037162\t1.90781342690165\t1.97130976344881\t2.10737172863250\t2.15019429781898\t2.33212859918696\t2.37836978511816\t2.70125558774664\t2.93230451617640\t3.29820981572039\t3.87760054734271\t4.25252602580764\t4.94498476845796\t5.25817474242878\t5.82605530986053\t6.17048884511227\t6.43433283056095\t6.44872732621742\t6.37851371223883\t6.25974936758101\t5.74191095637020\t5.43200701198314\t4.77496501244558\t4.34707110529453\t3.65161700586568\t2.98779516358046\t2.40576187854680\t1.81463812245540\t1.31679995478817\t0.781725483347007\t0.384171199736350\t-0.0135870365999003\t-0.400382308815961\t-0.753933468679073\t-1.06828512589627\t-1.38076480804100\t-1.61762324853658\t-1.75742148734329\t-1.90315313134684\t-1.95369960443384\t-1.91006230026087\t-1.82270447239024\t-1.63642400474654\t-1.39577151547336\t-1.09016016235948\t-0.694597886031887\t-0.333335643100883\t0.0189938863858563\t0.343333345557837\t0.596360647285752\t0.707508098918508\t0.776116594332383\t0.707869544515378\t0.527551487753222\t0.194861357159457\t-0.233086889728851\t-0.765967131330596\t-1.41465208788848\t-2.21712062183979\t-2.83674086673837\t-3.67869800556191\t-4.19318695203876\t-4.83907358368748\t-5.16954275139046\t-5.51257053500047\t-5.64737794815719\t-5.83045046258737\t-5.77646260000611\t-5.69156884372812\t-5.60057557950939\t-5.38021020404970\t-5.31229342478582\t-5.03715931465809\t-5.08221536754842\t-4.85031956413653\t-4.74849005022927\t-4.52000326669866\t-4.34602261490411\t-4.01228228154405\t-3.85289880870392\t-3.48026942741037\t-3.23326905592997\t-2.93308671297250\t-2.50995060658910\t-2.19351410232320\t-1.87970603246544\t-1.52635014918897\t-1.26883502010696\t-1.02059824290900\t-0.773535282283748\t-0.614271073985973'\n",
    "b = a.split('\t')\n",
    "c = np.zeros((1,100)).flatten()\n",
    "for i in range(0,100):\n",
    "    c[0,i] = float(b[i])\n",
    "\n",
    "\n",
    "x = np.linspace(1,100,100,endpoint=True)\n",
    "plt.title('Compare matlab and python')\n",
    "plt.plot(x,c[0,:],label='matlab curvedatafiltered')\n",
    "plt.plot(x,curvedatafiltered[:],label='python curvedatafiltered')\n",
    "plt.legend()\n",
    "plt.xlabel('i')\n",
    "plt.ylabel('curvedatafiltered')\n",
    "plt.show()"
   ]
  },
  {
   "cell_type": "code",
   "execution_count": 156,
   "metadata": {},
   "outputs": [],
   "source": [
    "import numpy as np\n",
    "from csaps import csaps\n",
    "from scipy import interpolate\n",
    "import scipy.ndimage\n",
    "worm_length = 0\n",
    "\n",
    "numcurvepts = 100\n",
    "proximity = 50\n",
    "spline_p = 0.0005\n",
    "flip=0\n",
    "timefilter = 5\n",
    "bodyfilter =10\n",
    "\n",
    "centerline = YamlFiles.Centerline #列差分计算，相邻点做差分\n",
    "centerline1 = centerline[0,:,:]\n",
    "df = np.diff(centerline1)\n",
    "df1 = df*df\n",
    "dfs = np.sqrt(np.dot([1,1],df1))\n",
    "dft = dfs.reshape(1,len(dfs))\n",
    "t0 = np.insert(dft,0,0)\n",
    "t = np.cumsum(t0)\n",
    "tt = t.reshape(1,len(t))\n",
    "worm_length=worm_length+t[-1]\n",
    "\n",
    "cv0 = csaps(t,centerline1,smooth = spline_p)\n",
    "cv2 = cv0(t)\n",
    "df2 = np.diff(cv2)\n",
    "\n",
    "df2s = np.sqrt(np.dot([1,1],df2*df2))\n",
    "dft = df2s.reshape(1,len(df2s))\n",
    "splen = np.cumsum(np.insert(dft,0,0)).reshape(1,100)\n",
    "# cv2 = np.interp(splen+0.00001*np.linspace(0,splen.size-1,splen.size,endpoint=True,dtype=float),cv2.transpose().reshape(100,2),(np.linspace(0,splen[0,-1]-1,102)).reshape(1,102))\n",
    "\n",
    "cv2i0 = splen+0.00001*np.linspace(0,splen.size-1,splen.size,endpoint=True,dtype=float)\n",
    "cv2i1 = cv2\n",
    "cv2i2 = (np.linspace(0,splen[0,-1]-1,102)).reshape(1,102)\n",
    "cv2i = interpolate.interp1d(cv2i0.reshape(100,),cv2i1,bounds_error=False)\n",
    "# df*df\n",
    "# t = cumsum([0,np.sqrt(np.array([1,1])*(df*df))])\n",
    "newcv = np.array([cv2i(cv2i2)[0,0,:],cv2i(cv2i2)[1,0,:]]).reshape(2,102)\n",
    "\n",
    "dfcv2= np.diff(newcv)\n",
    "atdf2 = np.arctan2(-dfcv2[1,:],dfcv2[0,:])\n",
    "angle = np.unwrap(atdf2)\n",
    "curve = (np.unwrap(np.diff(angle))).reshape(1,100)\n",
    "\n",
    "kernel = np.ones((timefilter,bodyfilter), np.float32)/(timefilter*bodyfilter)\n",
    "curvedatafiltered = scipy.ndimage.correlate(curve*100, kernel, mode='nearest')\n"
   ]
  },
  {
   "cell_type": "code",
   "execution_count": 118,
   "metadata": {},
   "outputs": [
    {
     "name": "stdout",
     "output_type": "stream",
     "text": [
      "[-0.625  0.625  1.   ]\n"
     ]
    }
   ],
   "source": [
    "from scipy.interpolate import PchipInterpolator as PCHIP\n",
    "x = np.array([1,2,3,4,5,6])\n",
    "y = np.array([-1,-1,0,1,1,1])\n",
    "pchip = PCHIP(x,y)\n",
    "x_new = np.array([2.5,3.5,4.5])\n",
    "y_new = pchip.__call__(x_new)\n",
    "print(y_new)"
   ]
  },
  {
   "cell_type": "code",
   "execution_count": 120,
   "metadata": {},
   "outputs": [
    {
     "ename": "ValueError",
     "evalue": "`x` must be 1-dimensional.",
     "output_type": "error",
     "traceback": [
      "\u001b[1;31m---------------------------------------------------------------------------\u001b[0m",
      "\u001b[1;31mValueError\u001b[0m                                Traceback (most recent call last)",
      "\u001b[1;32mC:\\Users\\ADMINI~1\\AppData\\Local\\Temp/ipykernel_31620/3886006027.py\u001b[0m in \u001b[0;36m<module>\u001b[1;34m\u001b[0m\n\u001b[0;32m      3\u001b[0m \u001b[0mcv2i1\u001b[0m \u001b[1;33m=\u001b[0m \u001b[0mcv2\u001b[0m\u001b[1;33m\u001b[0m\u001b[1;33m\u001b[0m\u001b[0m\n\u001b[0;32m      4\u001b[0m \u001b[0mcv2i2\u001b[0m \u001b[1;33m=\u001b[0m \u001b[1;33m(\u001b[0m\u001b[0mnp\u001b[0m\u001b[1;33m.\u001b[0m\u001b[0mlinspace\u001b[0m\u001b[1;33m(\u001b[0m\u001b[1;36m0\u001b[0m\u001b[1;33m,\u001b[0m\u001b[0msplen\u001b[0m\u001b[1;33m[\u001b[0m\u001b[1;36m0\u001b[0m\u001b[1;33m,\u001b[0m\u001b[1;33m-\u001b[0m\u001b[1;36m1\u001b[0m\u001b[1;33m]\u001b[0m\u001b[1;33m-\u001b[0m\u001b[1;36m1\u001b[0m\u001b[1;33m,\u001b[0m\u001b[1;36m102\u001b[0m\u001b[1;33m)\u001b[0m\u001b[1;33m)\u001b[0m\u001b[1;33m.\u001b[0m\u001b[0mreshape\u001b[0m\u001b[1;33m(\u001b[0m\u001b[1;36m1\u001b[0m\u001b[1;33m,\u001b[0m\u001b[1;36m102\u001b[0m\u001b[1;33m)\u001b[0m\u001b[1;33m\u001b[0m\u001b[1;33m\u001b[0m\u001b[0m\n\u001b[1;32m----> 5\u001b[1;33m \u001b[0mpchip\u001b[0m \u001b[1;33m=\u001b[0m \u001b[0mPCHIP\u001b[0m\u001b[1;33m(\u001b[0m\u001b[0mcv2i0\u001b[0m\u001b[1;33m,\u001b[0m\u001b[0mcv2i1\u001b[0m\u001b[1;33m[\u001b[0m\u001b[1;36m0\u001b[0m\u001b[1;33m,\u001b[0m\u001b[1;33m:\u001b[0m\u001b[1;33m]\u001b[0m\u001b[1;33m)\u001b[0m\u001b[1;33m\u001b[0m\u001b[1;33m\u001b[0m\u001b[0m\n\u001b[0m\u001b[0;32m      6\u001b[0m \u001b[1;33m\u001b[0m\u001b[0m\n\u001b[0;32m      7\u001b[0m \u001b[1;31m# (cv2i0.shape[1],) + (1,)*(cv2i1.ndim-1)\u001b[0m\u001b[1;33m\u001b[0m\u001b[1;33m\u001b[0m\u001b[1;33m\u001b[0m\u001b[0m\n",
      "\u001b[1;32mE:\\Anaconda\\lib\\site-packages\\scipy\\interpolate\\_cubic.py\u001b[0m in \u001b[0;36m__init__\u001b[1;34m(self, x, y, axis, extrapolate)\u001b[0m\n\u001b[0;32m    228\u001b[0m     \"\"\"\n\u001b[0;32m    229\u001b[0m     \u001b[1;32mdef\u001b[0m \u001b[0m__init__\u001b[0m\u001b[1;33m(\u001b[0m\u001b[0mself\u001b[0m\u001b[1;33m,\u001b[0m \u001b[0mx\u001b[0m\u001b[1;33m,\u001b[0m \u001b[0my\u001b[0m\u001b[1;33m,\u001b[0m \u001b[0maxis\u001b[0m\u001b[1;33m=\u001b[0m\u001b[1;36m0\u001b[0m\u001b[1;33m,\u001b[0m \u001b[0mextrapolate\u001b[0m\u001b[1;33m=\u001b[0m\u001b[1;32mNone\u001b[0m\u001b[1;33m)\u001b[0m\u001b[1;33m:\u001b[0m\u001b[1;33m\u001b[0m\u001b[1;33m\u001b[0m\u001b[0m\n\u001b[1;32m--> 230\u001b[1;33m         \u001b[0mx\u001b[0m\u001b[1;33m,\u001b[0m \u001b[0m_\u001b[0m\u001b[1;33m,\u001b[0m \u001b[0my\u001b[0m\u001b[1;33m,\u001b[0m \u001b[0maxis\u001b[0m\u001b[1;33m,\u001b[0m \u001b[0m_\u001b[0m \u001b[1;33m=\u001b[0m \u001b[0mprepare_input\u001b[0m\u001b[1;33m(\u001b[0m\u001b[0mx\u001b[0m\u001b[1;33m,\u001b[0m \u001b[0my\u001b[0m\u001b[1;33m,\u001b[0m \u001b[0maxis\u001b[0m\u001b[1;33m)\u001b[0m\u001b[1;33m\u001b[0m\u001b[1;33m\u001b[0m\u001b[0m\n\u001b[0m\u001b[0;32m    231\u001b[0m         \u001b[0mxp\u001b[0m \u001b[1;33m=\u001b[0m \u001b[0mx\u001b[0m\u001b[1;33m.\u001b[0m\u001b[0mreshape\u001b[0m\u001b[1;33m(\u001b[0m\u001b[1;33m(\u001b[0m\u001b[0mx\u001b[0m\u001b[1;33m.\u001b[0m\u001b[0mshape\u001b[0m\u001b[1;33m[\u001b[0m\u001b[1;36m0\u001b[0m\u001b[1;33m]\u001b[0m\u001b[1;33m,\u001b[0m\u001b[1;33m)\u001b[0m \u001b[1;33m+\u001b[0m \u001b[1;33m(\u001b[0m\u001b[1;36m1\u001b[0m\u001b[1;33m,\u001b[0m\u001b[1;33m)\u001b[0m\u001b[1;33m*\u001b[0m\u001b[1;33m(\u001b[0m\u001b[0my\u001b[0m\u001b[1;33m.\u001b[0m\u001b[0mndim\u001b[0m\u001b[1;33m-\u001b[0m\u001b[1;36m1\u001b[0m\u001b[1;33m)\u001b[0m\u001b[1;33m)\u001b[0m\u001b[1;33m\u001b[0m\u001b[1;33m\u001b[0m\u001b[0m\n\u001b[0;32m    232\u001b[0m         \u001b[0mdk\u001b[0m \u001b[1;33m=\u001b[0m \u001b[0mself\u001b[0m\u001b[1;33m.\u001b[0m\u001b[0m_find_derivatives\u001b[0m\u001b[1;33m(\u001b[0m\u001b[0mxp\u001b[0m\u001b[1;33m,\u001b[0m \u001b[0my\u001b[0m\u001b[1;33m)\u001b[0m\u001b[1;33m\u001b[0m\u001b[1;33m\u001b[0m\u001b[0m\n",
      "\u001b[1;32mE:\\Anaconda\\lib\\site-packages\\scipy\\interpolate\\_cubic.py\u001b[0m in \u001b[0;36mprepare_input\u001b[1;34m(x, y, axis, dydx)\u001b[0m\n\u001b[0;32m     42\u001b[0m     \u001b[0maxis\u001b[0m \u001b[1;33m=\u001b[0m \u001b[0maxis\u001b[0m \u001b[1;33m%\u001b[0m \u001b[0my\u001b[0m\u001b[1;33m.\u001b[0m\u001b[0mndim\u001b[0m\u001b[1;33m\u001b[0m\u001b[1;33m\u001b[0m\u001b[0m\n\u001b[0;32m     43\u001b[0m     \u001b[1;32mif\u001b[0m \u001b[0mx\u001b[0m\u001b[1;33m.\u001b[0m\u001b[0mndim\u001b[0m \u001b[1;33m!=\u001b[0m \u001b[1;36m1\u001b[0m\u001b[1;33m:\u001b[0m\u001b[1;33m\u001b[0m\u001b[1;33m\u001b[0m\u001b[0m\n\u001b[1;32m---> 44\u001b[1;33m         \u001b[1;32mraise\u001b[0m \u001b[0mValueError\u001b[0m\u001b[1;33m(\u001b[0m\u001b[1;34m\"`x` must be 1-dimensional.\"\u001b[0m\u001b[1;33m)\u001b[0m\u001b[1;33m\u001b[0m\u001b[1;33m\u001b[0m\u001b[0m\n\u001b[0m\u001b[0;32m     45\u001b[0m     \u001b[1;32mif\u001b[0m \u001b[0mx\u001b[0m\u001b[1;33m.\u001b[0m\u001b[0mshape\u001b[0m\u001b[1;33m[\u001b[0m\u001b[1;36m0\u001b[0m\u001b[1;33m]\u001b[0m \u001b[1;33m<\u001b[0m \u001b[1;36m2\u001b[0m\u001b[1;33m:\u001b[0m\u001b[1;33m\u001b[0m\u001b[1;33m\u001b[0m\u001b[0m\n\u001b[0;32m     46\u001b[0m         \u001b[1;32mraise\u001b[0m \u001b[0mValueError\u001b[0m\u001b[1;33m(\u001b[0m\u001b[1;34m\"`x` must contain at least 2 elements.\"\u001b[0m\u001b[1;33m)\u001b[0m\u001b[1;33m\u001b[0m\u001b[1;33m\u001b[0m\u001b[0m\n",
      "\u001b[1;31mValueError\u001b[0m: `x` must be 1-dimensional."
     ]
    }
   ],
   "source": [
    "from scipy.interpolate import PchipInterpolator as PCHIP\n",
    "cv2i0 = splen+0.00001*np.linspace(0,splen.size-1,splen.size,endpoint=True,dtype=float)\n",
    "cv2i1 = cv2\n",
    "cv2i2 = (np.linspace(0,splen[0,-1]-1,102)).reshape(1,102)\n",
    "pchip = PCHIP(cv2i0,cv2i1[0,:])\n",
    "\n",
    "# (cv2i0.shape[1],) + (1,)*(cv2i1.ndim-1)\n",
    "y_new = pchip.__call__(cv2i2)\n"
   ]
  },
  {
   "cell_type": "code",
   "execution_count": 81,
   "metadata": {},
   "outputs": [],
   "source": [
    "cc = (np.linspace(0,splen[0,-1]-1,102)).reshape(1,102)"
   ]
  },
  {
   "cell_type": "code",
   "execution_count": 27,
   "metadata": {},
   "outputs": [
    {
     "data": {
      "text/plain": [
       "array([[1, 4],\n",
       "       [4, 9]])"
      ]
     },
     "execution_count": 27,
     "metadata": {},
     "output_type": "execute_result"
    }
   ],
   "source": [
    "a = np.array([[1,2],[2,3]])\n",
    "a*a"
   ]
  },
  {
   "cell_type": "code",
   "execution_count": null,
   "metadata": {},
   "outputs": [],
   "source": []
  }
 ],
 "metadata": {
  "interpreter": {
   "hash": "96eb50e1d44aed467dc8f759cb08c32fbfa9babcf79c554e2d0e5feb04653a10"
  },
  "kernelspec": {
   "display_name": "Python 3.8.8 ('base')",
   "language": "python",
   "name": "python3"
  },
  "language_info": {
   "codemirror_mode": {
    "name": "ipython",
    "version": 3
   },
   "file_extension": ".py",
   "mimetype": "text/x-python",
   "name": "python",
   "nbconvert_exporter": "python",
   "pygments_lexer": "ipython3",
   "version": "3.8.8"
  },
  "orig_nbformat": 4
 },
 "nbformat": 4,
 "nbformat_minor": 2
}
