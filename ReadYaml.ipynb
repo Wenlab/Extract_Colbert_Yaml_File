{
 "cells": [
  {
   "cell_type": "code",
   "execution_count": null,
   "metadata": {},
   "outputs": [],
   "source": [
    "import os\n",
    "import time\n",
    "from Lib.YamlFrames import OpenYaml, GetWormName,Serial_Extraction_Data1\n",
    "\n",
    "time_start = time.time()\n",
    "\n",
    "workpath = os.getcwd()\n",
    "\n",
    "\n",
    "# 改变这行填入你的Yaml文件地址\n",
    "yaml_path = os.path.join(workpath,'YamlFiles','20210516_2051_w1.yaml')\n",
    "\n",
    "\n",
    "ListFile = OpenYaml(yaml_path)\n",
    "\n",
    "wormname = GetWormName(yaml_path)\n",
    "\n",
    "YamlData = Serial_Extraction_Data1(yaml_path)\n",
    "\n",
    "time_end = time.time()\n",
    "print('time cost:',time_end-time_start,'s')"
   ]
  },
  {
   "cell_type": "code",
   "execution_count": 3,
   "metadata": {},
   "outputs": [],
   "source": [
    "import pickle\n",
    "\n",
    "# 写入文件\n",
    "out_path = os.path.join(workpath,'YamlFiles',wormname+'.pkl')\n",
    "with open(out_path,'wb') as output_pkl:\n",
    "    pkl_str = pickle.dumps(YamlData)\n",
    "    output_pkl.write(pkl_str)"
   ]
  },
  {
   "cell_type": "code",
   "execution_count": 9,
   "metadata": {},
   "outputs": [],
   "source": [
    "# 导入文件\n",
    "from Lib.YamlFrames import YamlFrames\n",
    "input_path = os.path.join(workpath,'YamlFiles',wormname+'.pkl')\n",
    "with open(input_path,'rb') as input_pkl:\n",
    "    YamlData2 = pickle.loads(input_pkl.read())\n"
   ]
  },
  {
   "cell_type": "code",
   "execution_count": 11,
   "metadata": {},
   "outputs": [],
   "source": [
    "from Lib.YamlFrames import Get_Angle_Curve\n",
    "centerline = YamlData2.Centerline\n",
    "centerline1 = centerline[39567,:,:]\n",
    "centerline2 =  centerline[5961,:,:]\n",
    "# 1722 1723 5962 39567\n",
    "# worm_length,angle,curve,curvedatafiltered =Get_Angle_Curve(centerline1)"
   ]
  }
 ],
 "metadata": {
  "interpreter": {
   "hash": "96eb50e1d44aed467dc8f759cb08c32fbfa9babcf79c554e2d0e5feb04653a10"
  },
  "kernelspec": {
   "display_name": "Python 3.8.8 ('base')",
   "language": "python",
   "name": "python3"
  },
  "language_info": {
   "codemirror_mode": {
    "name": "ipython",
    "version": 3
   },
   "file_extension": ".py",
   "mimetype": "text/x-python",
   "name": "python",
   "nbconvert_exporter": "python",
   "pygments_lexer": "ipython3",
   "version": "3.8.8"
  },
  "orig_nbformat": 4
 },
 "nbformat": 4,
 "nbformat_minor": 2
}
