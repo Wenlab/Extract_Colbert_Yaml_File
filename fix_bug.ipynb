{
 "cells": [
  {
   "cell_type": "code",
   "execution_count": null,
   "metadata": {},
   "outputs": [],
   "source": [
    "# 有问题的\n",
    "#  20210715_1627_w1 20210715_1636_w2 20210715_1648_w4\n",
    "\n",
    "#  20210715_1659_w1w: Items of 'xdata' vector must satisfy the condition: x1 < x2 < ... < xN"
   ]
  },
  {
   "cell_type": "code",
   "execution_count": 17,
   "metadata": {},
   "outputs": [
    {
     "name": "stdout",
     "output_type": "stream",
     "text": [
      "Extract: 20210715_1722_w5w\n",
      "Total frames: 12095\n",
      "Total frames: 12095\n",
      "Os is Linux\n",
      " Thu Jul 15 17:22:31 2021\n",
      "Load data time cost: 3.5456066131591797 s\n",
      "并行处理数据 time cost: 5.045753002166748 s\n",
      "time cost: 9.260370969772339 s\n"
     ]
    }
   ],
   "source": [
    "import os\n",
    "import time\n",
    "from Lib.YamlFrames import OpenYaml, GetWormName,Just_Get_Raw,Get_First_Frames,Get_End_Frames,Extract_Yaml_Multiprocess_one\n",
    "\n",
    "time_start = time.time()\n",
    "\n",
    "workpath = '/home/data2/WormPoseData/ProcessingData/Temp/20210715_1722_w5w'\n",
    "\n",
    "wormname = workpath.split('/')[-1]\n",
    "print(\"Extract:\",wormname)\n",
    "# 改变这行填入你的Yaml文件地址\n",
    "yaml_path = os.path.join(workpath,wormname,wormname+'.yaml')\n",
    "\n",
    "\n",
    "\n",
    "ListFile = OpenYaml(yaml_path) # 导入数据\n",
    "\n",
    "ListFile[-1]\n",
    "linenumber = ListFile[-99].split(':')[-1]\n",
    "\n",
    "\n",
    "begin_num1 = Get_First_Frames(ListFile)\n",
    "end_num = Get_End_Frames(ListFile)\n",
    "All_Frames_num = end_num-begin_num1+1  # 总的帧数\n",
    "print(\"Total frames:\",All_Frames_num)\n",
    "\n",
    "# YamlData = Just_Get_Raw(yaml_path)\n",
    "YamlData = Extract_Yaml_Multiprocess_one(yaml_path)\n",
    "\n",
    "\n",
    "\n",
    "time_end = time.time()\n",
    "print('time cost:',time_end-time_start,'s')\n",
    "\n"
   ]
  },
  {
   "cell_type": "code",
   "execution_count": null,
   "metadata": {},
   "outputs": [],
   "source": []
  }
 ],
 "metadata": {
  "interpreter": {
   "hash": "ade3701b57ba90615e22bf2110c55461c6ff0bf872b548af34005739816b6695"
  },
  "kernelspec": {
   "display_name": "Python 3.7.11 ('ExtractYaml')",
   "language": "python",
   "name": "python3"
  },
  "language_info": {
   "codemirror_mode": {
    "name": "ipython",
    "version": 3
   },
   "file_extension": ".py",
   "mimetype": "text/x-python",
   "name": "python",
   "nbconvert_exporter": "python",
   "pygments_lexer": "ipython3",
   "version": "3.7.11"
  },
  "orig_nbformat": 4
 },
 "nbformat": 4,
 "nbformat_minor": 2
}
