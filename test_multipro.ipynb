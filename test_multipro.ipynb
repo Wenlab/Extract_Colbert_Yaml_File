{
 "cells": [
  {
   "cell_type": "code",
   "execution_count": 4,
   "metadata": {},
   "outputs": [
    {
     "name": "stdout",
     "output_type": "stream",
     "text": [
      "Extract: 20210516_2051_w1\n",
      "Os is Linux\n",
      " Sun May 16 20:51:33 2021\n",
      "time cost: 13.185689210891724 s\n"
     ]
    }
   ],
   "source": [
    "import os\n",
    "import time\n",
    "from Lib.YamlFrames import OpenYaml,Just_Get_Raw\n",
    "\n",
    "time_start = time.time()\n",
    "\n",
    "workpath = '/home/data2/WormPoseData/ProcessingData/Temp/20210516_2051_w1'\n",
    "\n",
    "wormname = workpath.split('/')[-1]\n",
    "print(\"Extract:\",wormname)\n",
    "# 改变这行填入你的Yaml文件地址\n",
    "yaml_path = os.path.join(workpath,wormname,wormname+'.yaml')\n",
    "\n",
    "\n",
    "\n",
    "ListFile = OpenYaml(yaml_path)\n",
    "\n",
    "\n",
    "YamlData = Just_Get_Raw(yaml_path)\n",
    "\n",
    "time_end = time.time()\n",
    "print('time cost:',time_end-time_start,'s')\n",
    "\n"
   ]
  },
  {
   "cell_type": "code",
   "execution_count": 16,
   "metadata": {},
   "outputs": [
    {
     "name": "stdout",
     "output_type": "stream",
     "text": [
      "0\n",
      "901\n",
      "880\n"
     ]
    }
   ],
   "source": [
    "import math\n",
    "from numpy import *\n",
    "import datetime\n",
    "import multiprocessing as mp\n",
    "from Lib.YamlFrames import Get_Multi_curvedatafiltered,Multi_task\n",
    "\n",
    "frames = len(YamlData.Centerline)  # 数据帧数\n",
    "\n",
    "start_t = datetime.datetime.now()\n",
    "\n",
    "num_cores = int(mp.cpu_count())\n",
    "\n",
    "each_core_pro_num = math.ceil(frames/num_cores) # 平均每个处理多少帧\n",
    "\n",
    "\n",
    "i = 0\n",
    "centerlines0 = Multi_task(i,YamlData.Centerline[(i-1)*each_core_pro_num:i*each_core_pro_num,:,:])\n",
    "x0 = Get_Multi_curvedatafiltered(centerlines0)\n",
    "i = 1\n",
    "centerlines1 = Multi_task(i,YamlData.Centerline[(i-1)*each_core_pro_num:i*each_core_pro_num,:,:])\n",
    "x1 = Get_Multi_curvedatafiltered(centerlines1)\n",
    "i = 48\n",
    "centerlinesn = Multi_task(i,YamlData.Centerline[(i-1)*each_core_pro_num:-1,:,:])\n",
    "xn = Get_Multi_curvedatafiltered(centerlinesn)"
   ]
  },
  {
   "cell_type": "code",
   "execution_count": 1,
   "metadata": {},
   "outputs": [
    {
     "name": "stdout",
     "output_type": "stream",
     "text": [
      "Total frames: 43228\n",
      "Os is Linux\n",
      " Sun May 16 20:51:33 2021\n",
      "Load data time cost: 12.937586069107056 s\n",
      "并行处理数据 time cost: 8.356865167617798 s\n",
      "All time cost: 21.520939826965332 s\n"
     ]
    }
   ],
   "source": [
    "import os\n",
    "import time\n",
    "from Lib.YamlFrames import Extract_Yaml_Multiprocess_one\n",
    "\n",
    "\n",
    "workpath = '/home/data2/WormPoseData/ProcessingData/Temp/20210516_2051_w1'\n",
    "\n",
    "wormname = workpath.split('/')[-1]\n",
    "\n",
    "yaml_path = os.path.join(workpath,wormname,wormname+'.yaml')\n",
    "\n",
    "yaml_time_start = time.time()\n",
    "\n",
    "YamlData = Extract_Yaml_Multiprocess_one(yaml_path)\n",
    "\n",
    "yaml_time_end = time.time()\n",
    "print('All time cost:',yaml_time_end-yaml_time_start,'s')"
   ]
  }
 ],
 "metadata": {
  "interpreter": {
   "hash": "ade3701b57ba90615e22bf2110c55461c6ff0bf872b548af34005739816b6695"
  },
  "kernelspec": {
   "display_name": "Python 3.7.11 ('ExtractYaml')",
   "language": "python",
   "name": "python3"
  },
  "language_info": {
   "codemirror_mode": {
    "name": "ipython",
    "version": 3
   },
   "file_extension": ".py",
   "mimetype": "text/x-python",
   "name": "python",
   "nbconvert_exporter": "python",
   "pygments_lexer": "ipython3",
   "version": "3.7.11"
  },
  "orig_nbformat": 4
 },
 "nbformat": 4,
 "nbformat_minor": 2
}
