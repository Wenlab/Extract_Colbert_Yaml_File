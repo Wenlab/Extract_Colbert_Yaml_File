{
 "cells": [
  {
   "cell_type": "code",
   "execution_count": null,
   "metadata": {},
   "outputs": [],
   "source": [
    "import os\n",
    "import time\n",
    "from Lib.YamlFrames import Extract_Yaml_Multiprocess_one,GetWormName\n",
    "\n",
    "\n",
    "\n",
    "# 输入yaml文件路径\n",
    "yaml_path = '/home/data2/WormPoseData/ProcessingData/Temp/20210516_2051_w1.yaml'\n",
    "\n",
    "\n",
    "wormname = GetWormName(yaml_path)\n",
    "print(\"Process worm:\",wormname)\n",
    "\n",
    "yaml_time_start = time.time()\n",
    "\n",
    "YamlData = Extract_Yaml_Multiprocess_one(yaml_path)\n",
    "\n",
    "yaml_time_end = time.time()\n",
    "print('All time cost:',yaml_time_end-yaml_time_start,'s')"
   ]
  }
 ],
 "metadata": {
  "language_info": {
   "name": "python"
  },
  "orig_nbformat": 4
 },
 "nbformat": 4,
 "nbformat_minor": 2
}
