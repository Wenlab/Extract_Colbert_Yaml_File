{
 "cells": [
  {
   "cell_type": "code",
   "execution_count": null,
   "metadata": {},
   "outputs": [],
   "source": [
    "import os\n",
    "import time\n",
    "from Lib.YamlFrames import Extract_Yaml_Multiprocess_one,GetWormName\n",
    "\n",
    "\n",
    "\n",
    "# 输入yaml文件路径\n",
    "yaml_path = '/home/data2/WormPoseData/ProcessingData/Temp/20210516_2051_w1.yaml'\n",
    "\n",
    "\n",
    "wormname = GetWormName(yaml_path)\n",
    "print(\"Process worm:\",wormname)\n",
    "\n",
    "yaml_time_start = time.time()\n",
    "\n",
    "YamlData = Extract_Yaml_Multiprocess_one(yaml_path)\n",
    "\n",
    "yaml_time_end = time.time()\n",
    "print('All time cost:',yaml_time_end-yaml_time_start,'s')"
   ]
  },
  {
   "cell_type": "code",
   "execution_count": null,
   "metadata": {},
   "outputs": [],
   "source": [
    "import pickle\n",
    "\n",
    "# 写入文件\n",
    "out_path = os.path.join(workpath,'YamlFiles',wormname+'.pkl')\n",
    "with open(out_path,'wb') as output_pkl:\n",
    "    pkl_str = pickle.dumps(YamlData)\n",
    "    output_pkl.write(pkl_str)"
   ]
  },
  {
   "cell_type": "code",
   "execution_count": null,
   "metadata": {},
   "outputs": [],
   "source": [
    "# 导入文件\n",
    "from Lib.YamlFrames import YamlFrames\n",
    "input_path = os.path.join(workpath,'YamlFiles',wormname+'.pkl')\n",
    "with open(input_path,'rb') as input_pkl:\n",
    "    YamlData2 = pickle.loads(input_pkl.read())\n",
    "from Lib.YamlFrames import Get_Angle_Curve\n",
    "\n",
    "centerline = YamlData2.Centerline\n",
    "centerline_i = centerline[39567,:,:]\n",
    "# 1722 1723 5962 39567\n",
    "# worm_length,angle,curve,curvedatafiltered =Get_Angle_Curve(centerline1)"
   ]
  }
 ],
 "metadata": {
  "language_info": {
   "name": "python"
  },
  "orig_nbformat": 4
 },
 "nbformat": 4,
 "nbformat_minor": 2
}
