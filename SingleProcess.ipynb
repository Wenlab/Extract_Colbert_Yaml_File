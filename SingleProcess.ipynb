{
 "cells": [
  {
   "cell_type": "code",
   "execution_count": null,
   "metadata": {},
   "outputs": [],
   "source": [
    "import os\n",
    "import time\n",
    "from YamlLib.YamlFrames import Extract_Yaml_Multiprocess_one,GetWormName\n",
    "\n",
    "\n",
    "\n",
    "# 输入yaml文件路径\n",
    "yaml_path = '/home/data2/WormPoseData/ProcessingData/Temp/20210715_1627_w1'\n",
    "\n",
    "\n",
    "wormname = GetWormName(yaml_path)\n",
    "print(\"Process worm:\",wormname)\n",
    "\n",
    "yaml_time_start = time.time()\n",
    "\n",
    "# YamlData = Extract_Yaml_Multiprocess_one(yaml_path)\n",
    "YamlData = Extract_Yaml_Multiprocess_one(os.path.join(yaml_path,wormname,wormname+'.yaml'))\n",
    "\n",
    "yaml_time_end = time.time()\n",
    "print('All time cost:',yaml_time_end-yaml_time_start,'s')"
   ]
  },
  {
   "cell_type": "code",
   "execution_count": null,
   "metadata": {},
   "outputs": [],
   "source": [
    "import pickle\n",
    "\n",
    "# 写入文件\n",
    "out_path = os.path.join(workpath,'YamlFiles',wormname+'.pkl')\n",
    "with open(out_path,'wb') as output_pkl:\n",
    "    pkl_str = pickle.dumps(YamlData)\n",
    "    output_pkl.write(pkl_str)"
   ]
  },
  {
   "cell_type": "code",
   "execution_count": null,
   "metadata": {},
   "outputs": [],
   "source": [
    "# 导入文件\n",
    "from Lib.YamlFrames import YamlFrames\n",
    "input_path = os.path.join(workpath,'YamlFiles',wormname+'.pkl')\n",
    "with open(input_path,'rb') as input_pkl:\n",
    "    YamlData2 = pickle.loads(input_pkl.read())\n",
    "from Lib.YamlFrames import Get_Angle_Curve\n",
    "\n",
    "centerline = YamlData2.Centerline\n",
    "centerline_i = centerline[39567,:,:]\n",
    "# 1722 1723 5962 39567\n",
    "# worm_length,angle,curve,curvedatafiltered =Get_Angle_Curve(centerline1)"
   ]
  }
 ],
 "metadata": {
  "interpreter": {
   "hash": "ade3701b57ba90615e22bf2110c55461c6ff0bf872b548af34005739816b6695"
  },
  "kernelspec": {
   "display_name": "Python 3.7.11 ('ExtractYaml')",
   "language": "python",
   "name": "python3"
  },
  "language_info": {
   "codemirror_mode": {
    "name": "ipython",
    "version": 3
   },
   "file_extension": ".py",
   "mimetype": "text/x-python",
   "name": "python",
   "nbconvert_exporter": "python",
   "pygments_lexer": "ipython3",
   "version": "3.7.11"
  },
  "orig_nbformat": 4
 },
 "nbformat": 4,
 "nbformat_minor": 2
}