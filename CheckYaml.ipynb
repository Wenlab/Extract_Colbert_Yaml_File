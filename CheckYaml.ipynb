{
 "cells": [
  {
   "cell_type": "code",
   "execution_count": 1,
   "metadata": {},
   "outputs": [],
   "source": [
    "import os\n",
    "import time\n",
    "from IPython.display import Image,display\n",
    "import ipywidgets as widgets\n",
    "from ipywidgets import interact, interact_manual\n",
    "from Lib.YamlFrames import Extract_Yaml_Multiprocess_one,GetWormName\n",
    "import matplotlib.pyplot as plt\n",
    "\n",
    "\n",
    "# 视频在 ../RawVideos/wormname.avi\n",
    "# Yaml文件在 ../YamlFiles/wormname.avi\n",
    "# 输入yaml文件路径\n",
    "\n",
    "fileFolder = 'H:\\WenLabData\\wormdata\\Forward_Crawl'\n"
   ]
  },
  {
   "cell_type": "code",
   "execution_count": 2,
   "metadata": {},
   "outputs": [
    {
     "data": {
      "application/vnd.jupyter.widget-view+json": {
       "model_id": "158a6e75522343b785fc9a65e50d58bb",
       "version_major": 2,
       "version_minor": 0
      },
      "text/plain": [
       "interactive(children=(Dropdown(description='file', options=('20210429_2012_w0.avi', '20210515_2232_w1.avi', '2…"
      ]
     },
     "metadata": {},
     "output_type": "display_data"
    }
   ],
   "source": [
    "@interact\n",
    "def choose_wormname(file=os.listdir(os.path.join(fileFolder,'RawVideos'))):\n",
    "    videopath = os.path.join(fileFolder,'RawVideos',file)\n",
    "    wormname = GetWormName(file)\n",
    "    yaml_path = os.path.join(fileFolder,'YamlFiles',wormname+'.yaml')\n",
    "    print(wormname)\n",
    "    print(videopath)\n",
    "    print(yaml_path)\n",
    "    yaml_time_start = time.time()\n",
    "    YamlData = Extract_Yaml_Multiprocess_one(os.path.join(yaml_path))\n",
    "    yaml_time_end = time.time()\n",
    "    print('All time cost:',yaml_time_end-yaml_time_start,'s')\n",
    "    # yaml_path = os.path.join()\n",
    "\t# display(Image())"
   ]
  },
  {
   "cell_type": "code",
   "execution_count": null,
   "metadata": {},
   "outputs": [],
   "source": [
    "# YamlData = Extract_Yaml_Multiprocess_one(yaml_path)\n",
    "\n"
   ]
  }
 ],
 "metadata": {
  "interpreter": {
   "hash": "1b9e5a1fee09104aa40a0aaa50bfd41aac98433aa2c04a561f88588d16e220d7"
  },
  "kernelspec": {
   "display_name": "Python 3.8.12 ('WormPackage-xrk')",
   "language": "python",
   "name": "python3"
  },
  "language_info": {
   "codemirror_mode": {
    "name": "ipython",
    "version": 3
   },
   "file_extension": ".py",
   "mimetype": "text/x-python",
   "name": "python",
   "nbconvert_exporter": "python",
   "pygments_lexer": "ipython3",
   "version": "3.8.12"
  },
  "orig_nbformat": 4
 },
 "nbformat": 4,
 "nbformat_minor": 2
}
